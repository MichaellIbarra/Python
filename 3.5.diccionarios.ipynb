{
 "cells": [
  {
   "attachments": {},
   "cell_type": "markdown",
   "metadata": {},
   "source": [
    "### 3.5 Diccionarios\n",
    "#### Son colecciones de datos semejantes a las listas\n",
    "#### Los Diccionarios se caracterizan por:\n",
    "#####  .Se define cada elemento dentro de un diccionario como una relación entre Clave: valor.\n",
    "#####  .Las claves ejercen como índice de cada elemento (No son únicamente números)-"
   ]
  },
  {
   "cell_type": "code",
   "execution_count": 2,
   "metadata": {},
   "outputs": [
    {
     "name": "stdout",
     "output_type": "stream",
     "text": [
      "{1: 'Nombre', 2: 'Apellidos', 3: 'profesión', 4: 'región'}\n"
     ]
    }
   ],
   "source": [
    "colores = {'azul': 'blue', 'negro': 'black', 'rosado': 'pink'} \n",
    "propiedades = {1: 'Nombre', 2:'Apellidos', 3:'profesión', 4:'región'}\n",
    "print(propiedades)"
   ]
  },
  {
   "cell_type": "code",
   "execution_count": 3,
   "metadata": {},
   "outputs": [
    {
     "data": {
      "text/plain": [
       "dict"
      ]
     },
     "execution_count": 3,
     "metadata": {},
     "output_type": "execute_result"
    }
   ],
   "source": [
    "type(colores)"
   ]
  },
  {
   "attachments": {},
   "cell_type": "markdown",
   "metadata": {},
   "source": [
    "### Podemos escoger entre sus elementos utilizando las claves"
   ]
  },
  {
   "cell_type": "code",
   "execution_count": 4,
   "metadata": {},
   "outputs": [
    {
     "data": {
      "text/plain": [
       "{'azul': 'blue', 'negro': 'black', 'rosado': 'pink'}"
      ]
     },
     "execution_count": 4,
     "metadata": {},
     "output_type": "execute_result"
    }
   ],
   "source": [
    "colores"
   ]
  },
  {
   "cell_type": "code",
   "execution_count": 5,
   "metadata": {},
   "outputs": [
    {
     "data": {
      "text/plain": [
       "'blue'"
      ]
     },
     "execution_count": 5,
     "metadata": {},
     "output_type": "execute_result"
    }
   ],
   "source": [
    "# print(f'{ propiedades[2] }: Ibarra Matinez')\n",
    "colores['azul']"
   ]
  },
  {
   "attachments": {},
   "cell_type": "markdown",
   "metadata": {},
   "source": [
    "### También podemos modificar los valores de sus elementos y realizar operaciones con ellos"
   ]
  },
  {
   "cell_type": "code",
   "execution_count": 6,
   "metadata": {},
   "outputs": [
    {
     "data": {
      "text/plain": [
       "{'azul': 'blue', 'negro': 'noir', 'rosado': 'pink'}"
      ]
     },
     "execution_count": 6,
     "metadata": {},
     "output_type": "execute_result"
    }
   ],
   "source": [
    "colores['negro'] = 'noir'\n",
    "colores"
   ]
  },
  {
   "cell_type": "code",
   "execution_count": 7,
   "metadata": {},
   "outputs": [
    {
     "data": {
      "text/plain": [
       "{'azul': 'blue',\n",
       " 'negro': 'noir',\n",
       " 'rosado': 'pink',\n",
       " 'anaranjado': 'orange',\n",
       " 'blanco': 'white'}"
      ]
     },
     "execution_count": 7,
     "metadata": {},
     "output_type": "execute_result"
    }
   ],
   "source": [
    "colores['anaranjado'] = 'orange'\n",
    "colores['blanco'] = 'white'\n",
    "colores"
   ]
  },
  {
   "cell_type": "code",
   "execution_count": 8,
   "metadata": {},
   "outputs": [
    {
     "data": {
      "text/plain": [
       "26"
      ]
     },
     "execution_count": 8,
     "metadata": {},
     "output_type": "execute_result"
    }
   ],
   "source": [
    "edades = {'Albert': 24,\n",
    "          'Johel':24,\n",
    "          'Roque':26,\n",
    "          'Victor': 27\n",
    "         }\n",
    "         \n",
    "edades['Roque']"
   ]
  },
  {
   "cell_type": "code",
   "execution_count": 9,
   "metadata": {},
   "outputs": [
    {
     "data": {
      "text/plain": [
       "{'Albert': 24, 'Johel': 24, 'Roque': 28, 'Victor': 27}"
      ]
     },
     "execution_count": 9,
     "metadata": {},
     "output_type": "execute_result"
    }
   ],
   "source": [
    "edades['Roque'] +=2;\n",
    "edades"
   ]
  },
  {
   "cell_type": "code",
   "execution_count": 10,
   "metadata": {},
   "outputs": [
    {
     "data": {
      "text/plain": [
       "51"
      ]
     },
     "execution_count": 10,
     "metadata": {},
     "output_type": "execute_result"
    }
   ],
   "source": [
    "edades['Albert'] + edades['Victor']"
   ]
  },
  {
   "cell_type": "code",
   "execution_count": 11,
   "metadata": {},
   "outputs": [
    {
     "data": {
      "text/plain": [
       "{'Albert': 24, 'Johel': 24, 'Roque': 28, 'Victor': 27, 'Giulia': 51}"
      ]
     },
     "execution_count": 11,
     "metadata": {},
     "output_type": "execute_result"
    }
   ],
   "source": [
    "edades['Giulia'] = edades[\"Albert\"] + edades[\"Victor\"]\n",
    "edades"
   ]
  },
  {
   "attachments": {},
   "cell_type": "markdown",
   "metadata": {},
   "source": [
    "### Métodos\n",
    "#### A través de un bucle For podemos recorrer los elementos de un diccionario"
   ]
  },
  {
   "cell_type": "code",
   "execution_count": 12,
   "metadata": {},
   "outputs": [
    {
     "name": "stdout",
     "output_type": "stream",
     "text": [
      "Albert\n",
      "Johel\n",
      "Roque\n",
      "Victor\n",
      "Giulia\n"
     ]
    }
   ],
   "source": [
    "for c in edades: #for es para , c es una variable temporal para las claves contenidas en el diccionario\n",
    "    print(c)"
   ]
  },
  {
   "cell_type": "code",
   "execution_count": 13,
   "metadata": {},
   "outputs": [
    {
     "name": "stdout",
     "output_type": "stream",
     "text": [
      "24\n",
      "24\n",
      "28\n",
      "27\n",
      "51\n"
     ]
    }
   ],
   "source": [
    "for c in edades:\n",
    "    print(edades[c])"
   ]
  },
  {
   "attachments": {},
   "cell_type": "markdown",
   "metadata": {},
   "source": [
    "### EL método items() nos devuelve clave y valor automáticamente"
   ]
  },
  {
   "cell_type": "code",
   "execution_count": 14,
   "metadata": {},
   "outputs": [
    {
     "name": "stdout",
     "output_type": "stream",
     "text": [
      "Nombre Del Cliente es: Albert y su edad es 24\n",
      "Nombre Del Cliente es: Johel y su edad es 24\n",
      "Nombre Del Cliente es: Roque y su edad es 28\n",
      "Nombre Del Cliente es: Victor y su edad es 27\n",
      "Nombre Del Cliente es: Giulia y su edad es 51\n"
     ]
    }
   ],
   "source": [
    "for c,v in edades.items():\n",
    "    print(f'Nombre Del Cliente es: {c} y su edad es {v}')\n"
   ]
  },
  {
   "cell_type": "code",
   "execution_count": 15,
   "metadata": {},
   "outputs": [
    {
     "data": {
      "text/plain": [
       "{'azul': 'blue',\n",
       " 'negro': 'noir',\n",
       " 'rosado': 'pink',\n",
       " 'anaranjado': 'orange',\n",
       " 'blanco': 'white'}"
      ]
     },
     "execution_count": 15,
     "metadata": {},
     "output_type": "execute_result"
    }
   ],
   "source": [
    "colores"
   ]
  },
  {
   "cell_type": "code",
   "execution_count": 16,
   "metadata": {},
   "outputs": [
    {
     "name": "stdout",
     "output_type": "stream",
     "text": [
      "{'negro': 'noir', 'rosado': 'pink', 'anaranjado': 'orange', 'blanco': 'white'}\n"
     ]
    }
   ],
   "source": [
    "del(colores['azul'])\n",
    "print(colores)"
   ]
  },
  {
   "attachments": {},
   "cell_type": "markdown",
   "metadata": {},
   "source": [
    "### Debemos combinar provechosamente la listas y los diccionarios. Por ejemplo para crear un equipo de personajes"
   ]
  },
  {
   "cell_type": "code",
   "execution_count": 17,
   "metadata": {},
   "outputs": [],
   "source": [
    "equipo = []\n",
    "\n",
    "personajes = {'Nombre': 'Raskolnikov',\n",
    "              'Clase': 'Picaro',\n",
    "              'Nación': 'Rusia'\n",
    "}"
   ]
  },
  {
   "cell_type": "code",
   "execution_count": 18,
   "metadata": {},
   "outputs": [
    {
     "name": "stdout",
     "output_type": "stream",
     "text": [
      "[{'Nombre': 'Raskolnikov', 'Clase': 'Picaro', 'Nación': 'Rusia'}]\n"
     ]
    }
   ],
   "source": [
    "equipo.append(personajes)\n",
    "print(equipo)"
   ]
  },
  {
   "cell_type": "code",
   "execution_count": 19,
   "metadata": {},
   "outputs": [],
   "source": [
    "personajes = {\n",
    "    'Nombre': 'Michaell',\n",
    "    'Clase': 'Programación',\n",
    "    'Nación': 'Perú'\n",
    "}\n",
    "equipo.append(personajes)"
   ]
  },
  {
   "cell_type": "code",
   "execution_count": 20,
   "metadata": {},
   "outputs": [
    {
     "data": {
      "text/plain": [
       "[{'Nombre': 'Raskolnikov', 'Clase': 'Picaro', 'Nación': 'Rusia'},\n",
       " {'Nombre': 'Michaell', 'Clase': 'Programación', 'Nación': 'Perú'},\n",
       " {'Nombre': 'Jose', 'Clase': 'Youtuber', 'Nación': 'España'}]"
      ]
     },
     "execution_count": 20,
     "metadata": {},
     "output_type": "execute_result"
    }
   ],
   "source": [
    "personajes = {\n",
    "    'Nombre': 'Jose',\n",
    "    'Clase': 'Youtuber',\n",
    "    'Nación': 'España'\n",
    "\n",
    "}\n",
    "\n",
    "equipo.append(personajes)\n",
    "equipo"
   ]
  },
  {
   "cell_type": "code",
   "execution_count": 21,
   "metadata": {},
   "outputs": [
    {
     "name": "stdout",
     "output_type": "stream",
     "text": [
      "Raskolnikov , Picaro oriundo de  Rusia\n",
      "Michaell , Programación oriundo de  Perú\n",
      "Jose , Youtuber oriundo de  España\n"
     ]
    }
   ],
   "source": [
    "for e in equipo:\n",
    "    print(e['Nombre'], \",\", e['Clase'], \"oriundo de \", e['Nación'])"
   ]
  },
  {
   "cell_type": "code",
   "execution_count": 22,
   "metadata": {},
   "outputs": [
    {
     "name": "stdout",
     "output_type": "stream",
     "text": [
      "Su Nombre es Raskolnikov , Trabaja de Picaro Vive en Rusia\n",
      "Su Nombre es Michaell , Trabaja de Programación Vive en Perú\n",
      "Su Nombre es Jose , Trabaja de Youtuber Vive en España\n"
     ]
    }
   ],
   "source": [
    "for i in equipo:\n",
    "    print('Su Nombre es', i['Nombre'], ', Trabaja de',i['Clase'], 'Vive en', i['Nación'])"
   ]
  },
  {
   "cell_type": "code",
   "execution_count": null,
   "metadata": {},
   "outputs": [],
   "source": []
  }
 ],
 "metadata": {
  "kernelspec": {
   "display_name": "Python 3",
   "language": "python",
   "name": "python3"
  },
  "language_info": {
   "codemirror_mode": {
    "name": "ipython",
    "version": 3
   },
   "file_extension": ".py",
   "mimetype": "text/x-python",
   "name": "python",
   "nbconvert_exporter": "python",
   "pygments_lexer": "ipython3",
   "version": "3.11.3"
  },
  "orig_nbformat": 4
 },
 "nbformat": 4,
 "nbformat_minor": 2
}
