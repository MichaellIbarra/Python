{
 "cells": [
  {
   "attachments": {},
   "cell_type": "markdown",
   "metadata": {},
   "source": [
    "### 4.4 Ejercicos\n",
    "#### 1) Realiza un programa que lea dos números por teclado y permita elegir entre 3 opciones en un menú:\n",
    ">Mostrar la suma de dos números\n",
    "\n",
    ">Mostrar la resta de dos números(e primero menos el segundo)\n",
    "\n",
    ">Mostrar la multiplicación de dos números\n",
    "\n",
    "#### Si ingresamos una opción inválida, el programa informará que es incorrecto"
   ]
  },
  {
   "cell_type": "code",
   "execution_count": 7,
   "metadata": {},
   "outputs": [
    {
     "name": "stdout",
     "output_type": "stream",
     "text": [
      "\n",
      "\n",
      "\t\tMi Calculadora\n",
      "\n",
      "\n",
      "La resta de 10.0 y 20.0 su resultado es -10.0\n",
      "La multiplicación de 10.0 y 20.0 su resultado es 200.0\n",
      "La suma de 10.0 y 20.0 su resultado es 30.0\n",
      "La suma de 10.0 y 20.0 su resultado es 30.0\n",
      "La suma de 10.0 y 20.0 su resultado es 30.0\n",
      "La resta de 10.0 y 20.0 su resultado es -10.0\n",
      "Error opción invalida\n",
      "La multiplicación de 10.0 y 20.0 su resultado es 200.0\n",
      "La suma de 10.0 y 20.0 su resultado es 30.0\n",
      "La resta de 10.0 y 20.0 su resultado es -10.0\n",
      "La suma de 10.0 y 20.0 su resultado es 30.0\n",
      "La suma de 10.0 y 20.0 su resultado es 30.0\n",
      "La suma de 10.0 y 20.0 su resultado es 30.0\n",
      "Error opción invalida\n",
      "Error opción invalida\n",
      "Error opción invalida\n",
      "Error opción invalida\n",
      "Error opción invalida\n",
      "Error opción invalida\n",
      "Error opción invalida\n",
      "Error opción invalida\n",
      "Error opción invalida\n",
      "Error opción invalida\n",
      "Fue un gusto :)\n"
     ]
    }
   ],
   "source": [
    "print(\"\\n\\n\\t\\tMi Calculadora\\n\\n\")\n",
    "num1 = float(input(\"Ingrese el primer número\"))\n",
    "num2 = float(input(\"Ingrese el segundo número\"))\n",
    "while (True):\n",
    "    elegir = str(input(f\"\"\"\n",
    "    Elige una opción para tu primero número {num1} y tu segundo número {num2}\n",
    "    (1) La suma de Dos números\n",
    "    (2) La resta de Dos números\n",
    "    (3) La multiplicación de Dos números\n",
    "    (4) Salir el Bucle\n",
    "    \"\"\"))\n",
    "\n",
    "    if elegir == \"1\":\n",
    "        # num1 = float(input(\"Ingrese el primer número\"))\n",
    "        # num2 = float(input(\"Ingrese el segundo número\"))\n",
    "        # result = num1 + num2\n",
    "        print(f\"La suma de {num1} + {num2} = {num1 +num2}\")\n",
    "    elif elegir == \"2\":\n",
    "        # num1 = float(input(\"Ingrese el primer número\"))\n",
    "        # num2 = float(input(\"Ingrese el segundo número\"))\n",
    "        # result = num1 - num2\n",
    "        print(f\"La resta de {num1} - {num2} = {num1-num2}\")\n",
    "    elif elegir == \"3\":\n",
    "        # num1 = float(input(\"Ingrese el primer número\"))\n",
    "        # num2 = float(input(\"Ingrese el segundo número\"))\n",
    "        # result = num1 * num2\n",
    "        print(f\"La multiplicación de {num1} * {num2} = {num1 *num2}\")\n",
    "    elif elegir ==\"4\":\n",
    "        print(\"Fue un gusto :)\")\n",
    "        break\n",
    "    else:\n",
    "        print(\"Error opción invalida\")"
   ]
  },
  {
   "attachments": {},
   "cell_type": "markdown",
   "metadata": {},
   "source": [
    "#### 2) Dada una lista de strings (cadenas de caracteres), haga un programa que\n",
    "##### El número de strings que tienen una longitud de 2 o más caracteres, y cuyo primer y último caracter son iguales.\n",
    "##### Una lista nueva con solo estos strings."
   ]
  },
  {
   "cell_type": "code",
   "execution_count": 45,
   "metadata": {},
   "outputs": [
    {
     "data": {
      "text/plain": [
       "(4, ['avila', 'este', 'narracion', 'salidas'])"
      ]
     },
     "execution_count": 45,
     "metadata": {},
     "output_type": "execute_result"
    }
   ],
   "source": [
    "lista = ['avila', 'cafe', 'este', 'narracion', 'buda', 'estra', 'salidas']\n",
    "\n",
    "lista2 =[]\n",
    "suma = 0\n",
    "\n",
    "for item in lista:\n",
    "    if(len(item) >= 2 and (item[0]== item[-1])):\n",
    "        suma +=1\n",
    "        lista2.append(item)\n",
    "\n",
    "suma, lista2"
   ]
  },
  {
   "attachments": {},
   "cell_type": "markdown",
   "metadata": {},
   "source": [
    "### 3) Realiza un programa que pida un número impar, si el usuario no ingresa un número impar, debe repetirse el proceso hasta que ingrese un número válido"
   ]
  },
  {
   "cell_type": "code",
   "execution_count": 48,
   "metadata": {},
   "outputs": [
    {
     "name": "stdout",
     "output_type": "stream",
     "text": [
      "Debe de ser un número impar, ingrese un número impar\n",
      "Debe de ser un número impar, ingrese un número impar\n",
      "Debe de ser un número impar, ingrese un número impar\n",
      "Es un número impar :)\n"
     ]
    }
   ],
   "source": [
    "while (True):\n",
    "    impar = float(input(\"Ingrese un número impar\"))\n",
    "    if(impar % 2 ==0):\n",
    "        print(\"Debe de ser un número impar, ingrese un número impar\")\n",
    "    else:\n",
    "        print(\"Es un número impar :)\")\n",
    "        break"
   ]
  },
  {
   "attachments": {},
   "cell_type": "markdown",
   "metadata": {},
   "source": [
    "#### 4) Realiza un programa que sume todos los números enteros pares desde el 0 hasta el 100\n",
    "##### Protip: utilizar funciones sum() y range(). El tercer parámetro de range(inicio, fin, salto) indica el incremento entre los valores del rango"
   ]
  },
  {
   "cell_type": "code",
   "execution_count": 80,
   "metadata": {},
   "outputs": [
    {
     "data": {
      "text/plain": [
       "2500"
      ]
     },
     "execution_count": 80,
     "metadata": {},
     "output_type": "execute_result"
    }
   ],
   "source": [
    "# for i in range(0,100+1,2):\n",
    "#     print(i)\n",
    "sum(list(range(1,101,2)))"
   ]
  },
  {
   "cell_type": "code",
   "execution_count": 88,
   "metadata": {},
   "outputs": [
    {
     "name": "stdout",
     "output_type": "stream",
     "text": [
      "2550\n"
     ]
    }
   ],
   "source": [
    "num = 0\n",
    "suma = 0\n",
    "\n",
    "while num <=100:\n",
    "    if(num % 2 == 0): #Condición que se cumple\n",
    "        suma += num\n",
    "    num +=1\n",
    "\n",
    "print(suma)"
   ]
  },
  {
   "attachments": {},
   "cell_type": "markdown",
   "metadata": {},
   "source": [
    "#### 5) Realiza un programa que pregunte al usuario cuántos números quiere introducir. Luego debe leer todos los números y obtener la media aritmética:"
   ]
  },
  {
   "cell_type": "code",
   "execution_count": 10,
   "metadata": {},
   "outputs": [
    {
     "name": "stdout",
     "output_type": "stream",
     "text": [
      " se ha introducido 10 números que en total suman 10.0\n",
      " la media aritmética es 1.0\n"
     ]
    }
   ],
   "source": [
    "cantidad = int(input(\"Ingrese la cantidad de números: \"))\n",
    "suma = 0\n",
    "for e in range(cantidad):\n",
    "    suma+=float(input(\"Ingrese un número: \"))\n",
    "print(f\" se ha introducido {cantidad} números que en total suman {suma}\\n la media aritmética es {suma/cantidad}\")"
   ]
  },
  {
   "cell_type": "code",
   "execution_count": 11,
   "metadata": {},
   "outputs": [
    {
     "name": "stdout",
     "output_type": "stream",
     "text": [
      "maitchelo\n",
      "minrini\n",
      "makmsk\n"
     ]
    }
   ],
   "source": [
    "lista = [\"maitchelo\",\"minrini\", \"makmsk\"]\n",
    "for none in lista:\n",
    "    print(none)"
   ]
  },
  {
   "cell_type": "code",
   "execution_count": 23,
   "metadata": {},
   "outputs": [
    {
     "name": "stdout",
     "output_type": "stream",
     "text": [
      "Saludos a ndn\n",
      "Saludos a vianca\n",
      "Saludos a ms\n"
     ]
    }
   ],
   "source": [
    "cantt = int(input(\"ingresse la cantidad de saludos\"))\n",
    "nombres = []\n",
    "for canttt in range(cantt):\n",
    "    nombres.append(input(\"ingrese un nombre\"))\n",
    "    # print(nombres)\n",
    "for lis in nombres:\n",
    "    print(\"Saludos a\",lis)"
   ]
  }
 ],
 "metadata": {
  "kernelspec": {
   "display_name": "Python 3",
   "language": "python",
   "name": "python3"
  },
  "language_info": {
   "codemirror_mode": {
    "name": "ipython",
    "version": 3
   },
   "file_extension": ".py",
   "mimetype": "text/x-python",
   "name": "python",
   "nbconvert_exporter": "python",
   "pygments_lexer": "ipython3",
   "version": "3.11.3"
  },
  "orig_nbformat": 4
 },
 "nbformat": 4,
 "nbformat_minor": 2
}
