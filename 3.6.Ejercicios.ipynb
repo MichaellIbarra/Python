{
 "cells": [
  {
   "attachments": {},
   "cell_type": "markdown",
   "metadata": {},
   "source": [
    "### 3.6 Ejercicios\n",
    "#### 1) ¿Puedes identificar el error en el siguiente código?\n",
    "> media = num_1 + num_2 + num_3 / 3\n",
    "\n",
    "### Se pretende hacer una media muestral de 3 elementos pero no funciona correctamente"
   ]
  },
  {
   "cell_type": "code",
   "execution_count": 5,
   "metadata": {},
   "outputs": [
    {
     "name": "stdout",
     "output_type": "stream",
     "text": [
      "es total es  3\n"
     ]
    }
   ],
   "source": [
    "num_1 = int(input())\n",
    "num_2 = int(input())\n",
    "num_3 = int(input())\n",
    "media = int((num_1 + num_2 + num_3) /3)\n",
    "print('es total es ', media)"
   ]
  },
  {
   "attachments": {},
   "cell_type": "markdown",
   "metadata": {},
   "source": [
    "### 2) En la siguente matriz, el cuarto elemento siempre es la suma de los tres anteriores. utilizando la indexación corrige las listas que no cumplan esta condición"
   ]
  },
  {
   "cell_type": "code",
   "execution_count": 24,
   "metadata": {},
   "outputs": [
    {
     "data": {
      "text/plain": [
       "[[1, 1, 1, 3], [2, 2, 2, 7], [3, 3, 3, 9], [4, 4, 4, 13]]"
      ]
     },
     "execution_count": 24,
     "metadata": {},
     "output_type": "execute_result"
    }
   ],
   "source": [
    "matriz = [\n",
    "    [1,1,1,3],\n",
    "    [2,2,2,7],\n",
    "    [3,3,3,9],\n",
    "    [4,4,4,13],\n",
    "]\n",
    "\n",
    "matriz\n",
    "\n"
   ]
  },
  {
   "cell_type": "code",
   "execution_count": 25,
   "metadata": {},
   "outputs": [],
   "source": [
    "# Modificamos la primera fila\n",
    "\n",
    "matriz[1][-1] = sum(matriz[1][:-1])"
   ]
  },
  {
   "cell_type": "code",
   "execution_count": 27,
   "metadata": {},
   "outputs": [
    {
     "name": "stdout",
     "output_type": "stream",
     "text": [
      "[[1, 1, 1, 3], [2, 2, 2, 6], [3, 3, 3, 9], [4, 4, 4, 13]]\n"
     ]
    }
   ],
   "source": [
    "# Modificamos la última fila\n",
    "\n",
    "matriz[-1][-1] = sum(matriz[-1][:-1])\n",
    "print(matriz)"
   ]
  },
  {
   "attachments": {},
   "cell_type": "markdown",
   "metadata": {},
   "source": [
    "### 3) En el desarrollo de un videojuego se te encarga configurar y balancear cada clase de personaje. Partiendo de que la estadística base es 2, debes cumplir las siguentes condificones:\n",
    "> . El caballero tiene el doble de vida y defensa que un guerrero.\n",
    "\n",
    "> . El guerrero tiene el doble de ataque y alcance que un caballero.\n",
    "\n",
    "> . El arquero tiene la misma vida y ataque que un guerrero, pero la mitad de su defensa y el doble de su alcance.\n",
    "\n",
    "> . Muestra como quedan las propiedeades de los tres personajes.\n",
    "\n",
    "> caballero = {'vida':2, 'ataque':2, 'defensa':2, 'alcance':2} \n",
    "\n",
    "> guerrero = {'vida':2, 'ataque':2, 'defensa':2, 'alcance':2}\n",
    "\n",
    "> arquero = {'vida':2, 'ataque':2, 'defensa':2, 'alcance':2}\n"
   ]
  },
  {
   "cell_type": "code",
   "execution_count": 85,
   "metadata": {},
   "outputs": [],
   "source": [
    "caballero = {'vida':2, 'ataque':2, 'defensa':2, 'alcance':2} \n",
    "guerrero = {'vida':2, 'ataque':2, 'defensa':2, 'alcance':2}\n",
    "arquero = {'vida':2, 'ataque':2, 'defensa':2, 'alcance':2}\n",
    "\n"
   ]
  },
  {
   "cell_type": "code",
   "execution_count": 94,
   "metadata": {},
   "outputs": [
    {
     "data": {
      "text/plain": [
       "{'vida': 2, 'ataque': 4, 'defensa': 1, 'alcance': 8}"
      ]
     },
     "execution_count": 94,
     "metadata": {},
     "output_type": "execute_result"
    }
   ],
   "source": [
    "guerrero['ataque'] = caballero['ataque']*2\n",
    "guerrero['alcance'] = caballero['alcance']*2\n",
    "\n",
    "caballero['vida'] = guerrero['vida']*2\n",
    "caballero['defensa'] = guerrero['defensa']*2\n",
    "\n",
    "arquero['vida'] = guerrero['vida']\n",
    "arquero['ataque'] = guerrero['ataque']\n",
    "arquero['defensa'] = int(guerrero['defensa']/2)\n",
    "arquero['alcance'] = guerrero['alcance']*2\n",
    "arquero\n"
   ]
  },
  {
   "cell_type": "code",
   "execution_count": 95,
   "metadata": {},
   "outputs": [
    {
     "data": {
      "text/plain": [
       "({'vida': 4, 'ataque': 2, 'defensa': 4, 'alcance': 2},\n",
       " {'vida': 2, 'ataque': 4, 'defensa': 2, 'alcance': 4},\n",
       " {'vida': 2, 'ataque': 4, 'defensa': 1, 'alcance': 8})"
      ]
     },
     "execution_count": 95,
     "metadata": {},
     "output_type": "execute_result"
    }
   ],
   "source": [
    "caballero, guerrero , arquero"
   ]
  },
  {
   "cell_type": "code",
   "execution_count": 107,
   "metadata": {},
   "outputs": [
    {
     "name": "stdout",
     "output_type": "stream",
     "text": [
      "Caballero y sus habilidades\n",
      "vida 4\n",
      "ataque 2\n",
      "defensa 4\n",
      "alcance 2\n"
     ]
    }
   ],
   "source": [
    "print('Caballero y sus habilidades')\n",
    "lista = dict(caballero)\n",
    "for c,v in lista.items():\n",
    "    print(c,v)"
   ]
  }
 ],
 "metadata": {
  "kernelspec": {
   "display_name": "Python 3",
   "language": "python",
   "name": "python3"
  },
  "language_info": {
   "codemirror_mode": {
    "name": "ipython",
    "version": 3
   },
   "file_extension": ".py",
   "mimetype": "text/x-python",
   "name": "python",
   "nbconvert_exporter": "python",
   "pygments_lexer": "ipython3",
   "version": "3.11.2"
  },
  "orig_nbformat": 4
 },
 "nbformat": 4,
 "nbformat_minor": 2
}
