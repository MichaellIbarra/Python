{
 "cells": [
  {
   "attachments": {},
   "cell_type": "markdown",
   "metadata": {},
   "source": [
    "#### 4.2 Bucle while \n",
    "##### Un bucle es una secuencia que ejecuta reiteradas veces una acción hasta que la condición asignada al bucle deja de cumplirse. cada nueva ejecución la secuencia se denomina iteración\n",
    "##### La setencia while (mientras) repite las operaciones dentro de un bloque mientras la condición lógica que evalúa es True (Verdadera)\n",
    "##### El programador debe planificar un momento en que la condición es False y el bucle se detiene. De otra forma se vuelve un bucle infinito."
   ]
  },
  {
   "cell_type": "code",
   "execution_count": 9,
   "metadata": {},
   "outputs": [
    {
     "name": "stdout",
     "output_type": "stream",
     "text": [
      "contador vale 1\n",
      "contador vale 2\n",
      "contador vale 3\n",
      "contador vale 4\n",
      "contador vale 5\n",
      "contador vale 6\n"
     ]
    }
   ],
   "source": [
    "contador = 0\n",
    "while contador <= 5:\n",
    "    contador += 1\n",
    "    print('contador vale', contador)"
   ]
  },
  {
   "cell_type": "code",
   "execution_count": 14,
   "metadata": {},
   "outputs": [
    {
     "name": "stdout",
     "output_type": "stream",
     "text": [
      "contador vale 1\n",
      "contador vale 2\n",
      "contador vale 3\n",
      "contador vale 4\n",
      "contador vale 5\n",
      "se realizaron 6 interaciones\n"
     ]
    }
   ],
   "source": [
    "c = 1\n",
    "while c <= 5:\n",
    "    print(\"contador vale\", c)\n",
    "    c += 1\n",
    "else:\n",
    "    print(\"se realizaron {} interaciones\".format(c))\n",
    "   \n"
   ]
  },
  {
   "attachments": {},
   "cell_type": "markdown",
   "metadata": {},
   "source": [
    "### BREAK\n",
    "#### Con este comando detenemoos el bucle en cualquier momento"
   ]
  },
  {
   "cell_type": "code",
   "execution_count": 44,
   "metadata": {},
   "outputs": [
    {
     "name": "stdout",
     "output_type": "stream",
     "text": [
      "C vale 1\n",
      "C vale 2\n",
      "C vale 3\n",
      "C vale 4\n",
      "C vale 5\n",
      "C vale 6\n",
      "Se realizaron {} interaciones 6\n"
     ]
    }
   ],
   "source": [
    "conta = 0\n",
    "while conta <= 5:\n",
    "    conta +=1\n",
    "    if conta == 10:\n",
    "        print(\"Rompemos el bucle al contar\", conta)\n",
    "        break\n",
    "    print(\"C vale\", conta)\n",
    "else:\n",
    "    print(\"Se realizaron {} interaciones\", format(conta))"
   ]
  },
  {
   "attachments": {},
   "cell_type": "markdown",
   "metadata": {},
   "source": [
    "### CONTINUE\n",
    "#### Con este comando saltamos a la siguente iteración sin romper el bucle"
   ]
  },
  {
   "cell_type": "code",
   "execution_count": 3,
   "metadata": {},
   "outputs": [
    {
     "name": "stdout",
     "output_type": "stream",
     "text": [
      "C vale 1\n",
      "C vale 2\n",
      "C vale 3\n",
      "Ya que C vale 4 saltamos está interación \n",
      " y contnuamos con la siguente\n",
      "C vale 5\n",
      "C vale 6\n",
      "Se realizaron 6  interaciones\n"
     ]
    }
   ],
   "source": [
    "conti = 0\n",
    "while conti <= 5:\n",
    "    conti+=1\n",
    "    if conti == 4:\n",
    "        print(\"Ya que C vale {} saltamos está interación \\n y contnuamos con la siguente\".format(conti))\n",
    "        continue\n",
    "    print(\"C vale\", conti)\n",
    "else:\n",
    "    print(\"Se realizaron {}  interaciones\".format(conti))\n"
   ]
  },
  {
   "cell_type": "code",
   "execution_count": 1,
   "metadata": {},
   "outputs": [
    {
     "name": "stdout",
     "output_type": "stream",
     "text": [
      "Bienvenido!\n",
      "\n",
      " Bye\n",
      "\n"
     ]
    }
   ],
   "source": [
    "#Menú de usuario\n",
    "print(\"Bienvenido!\")\n",
    "while (True):\n",
    "    opcion = input(\"\"\"\\n Qué quieres hacer? Ingresa una opción\n",
    "     (1) Saludar\n",
    "     (2) Sumar dos números\n",
    "     (3) Salir\n",
    "     \"\"\")\n",
    "    if opcion =='1':\n",
    "        print(\"\\nMatichelo te manda saludos!\\n\")\n",
    "    elif opcion == '2':\n",
    "        num1 = float(input(\"Ingrese el primer número: \"))\n",
    "        num2 = float(input(\"Ingrese el segundo número: \"))\n",
    "        print(\"La suma de {} y {} es el total de {} \".format(num1,num2,int(num1+num2)))\n",
    "    elif opcion == '3':\n",
    "        print(\"\\n Bye\\n\")\n",
    "        break\n",
    "    else:\n",
    "        print(\"\\n intente denuevo\\n\")"
   ]
  }
 ],
 "metadata": {
  "kernelspec": {
   "display_name": "Python 3",
   "language": "python",
   "name": "python3"
  },
  "language_info": {
   "codemirror_mode": {
    "name": "ipython",
    "version": 3
   },
   "file_extension": ".py",
   "mimetype": "text/x-python",
   "name": "python",
   "nbconvert_exporter": "python",
   "pygments_lexer": "ipython3",
   "version": "3.11.2"
  },
  "orig_nbformat": 4
 },
 "nbformat": 4,
 "nbformat_minor": 2
}
