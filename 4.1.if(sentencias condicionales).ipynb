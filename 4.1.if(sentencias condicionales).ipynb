{
 "cells": [
  {
   "attachments": {},
   "cell_type": "markdown",
   "metadata": {},
   "source": [
    "### 4.1 if / el / elif: Sentencias condicionales\n",
    "#### En Python existen las sentencias condicionales if, else, elif (else if) que nos permiten dividir el flujo de un programa en diferentes caminos.\n",
    "#### Para hacer esto definimos un bloque de instrucciones que se ejecutarán solo si la condición previa se cumple (es verdadera)"
   ]
  },
  {
   "cell_type": "code",
   "execution_count": 8,
   "metadata": {},
   "outputs": [
    {
     "name": "stdout",
     "output_type": "stream",
     "text": [
      "Hey\n"
     ]
    }
   ],
   "source": [
    "if (3 >= 1):\n",
    "    print(\"Hey\")"
   ]
  },
  {
   "cell_type": "code",
   "execution_count": 9,
   "metadata": {},
   "outputs": [],
   "source": [
    "if (False):\n",
    "    print('hey')"
   ]
  },
  {
   "cell_type": "code",
   "execution_count": 10,
   "metadata": {},
   "outputs": [
    {
     "name": "stdout",
     "output_type": "stream",
     "text": [
      "x vale 6\n"
     ]
    }
   ],
   "source": [
    "x = 6\n",
    "if x == 6:\n",
    "    print('x vale 6')"
   ]
  },
  {
   "cell_type": "code",
   "execution_count": 13,
   "metadata": {},
   "outputs": [
    {
     "name": "stdout",
     "output_type": "stream",
     "text": [
      "x vale 6\n"
     ]
    }
   ],
   "source": [
    "if x == 2:\n",
    "    print('x vale 2')\n",
    "if x == 6:\n",
    "    print('x vale 6')"
   ]
  },
  {
   "attachments": {},
   "cell_type": "markdown",
   "metadata": {},
   "source": [
    "### Podemos escribir varios if anidados respetando la identación"
   ]
  },
  {
   "cell_type": "code",
   "execution_count": 23,
   "metadata": {},
   "outputs": [
    {
     "name": "stdout",
     "output_type": "stream",
     "text": [
      "A vale 20\n",
      "B vale 5\n"
     ]
    }
   ],
   "source": [
    "a = 10\n",
    "b = 5\n",
    "if a == 10:\n",
    "    print('A vale {}'.format(a))\n",
    "    if b == 5:\n",
    "        print('B vale {}'.format(b))"
   ]
  },
  {
   "cell_type": "code",
   "execution_count": 30,
   "metadata": {},
   "outputs": [
    {
     "name": "stdout",
     "output_type": "stream",
     "text": [
      "A vale 10, B vale 5\n"
     ]
    }
   ],
   "source": [
    "if a == 10 and b == 5:\n",
    "    print('A vale {}, B vale {}'.format(a,b) )"
   ]
  },
  {
   "attachments": {},
   "cell_type": "markdown",
   "metadata": {},
   "source": [
    "### Elfse y Elif\n",
    "#### Else (si no) se encadena al final del bloque para abrir una nueva lista de instrucciones.\n",
    "#### Este comando nos permite definir el camino que se ejecuta si la condición original no se cumple.\n",
    "#### Elif (si no, si) establece una nueva condición que se encadena a otro if o if o elif cuya condición resultó False(no se cumplió).\n",
    "#### Esto nos permite establecer múltiples condiciones para lidiar con los múltiples posibles entradas que el programa puede recibir.\n"
   ]
  },
  {
   "cell_type": "code",
   "execution_count": 36,
   "metadata": {},
   "outputs": [
    {
     "name": "stdout",
     "output_type": "stream",
     "text": [
      "8 es un número par\n"
     ]
    }
   ],
   "source": [
    "z = 8\n",
    "if z % 2 == 0:\n",
    "        print(z,'es un número par')\n",
    "else:\n",
    "        print(z,'es un número impar')"
   ]
  },
  {
   "cell_type": "code",
   "execution_count": 46,
   "metadata": {},
   "outputs": [
    {
     "name": "stdout",
     "output_type": "stream",
     "text": [
      "Muere\n"
     ]
    }
   ],
   "source": [
    "#Respuestas dinámicas\n",
    "texto = input('¿qué desea hacer?\\n ')\n",
    "if texto =='SALUDAR':\n",
    "    print('BUenas noches')\n",
    "elif texto == 'DESPEDIRSE':\n",
    "    print('Ok adios')\n",
    "elif texto == 'MORIR':\n",
    "    print('Muere')\n",
    "else:\n",
    "    print('No Nombres ninguna opción')"
   ]
  },
  {
   "cell_type": "code",
   "execution_count": 54,
   "metadata": {},
   "outputs": [
    {
     "name": "stdout",
     "output_type": "stream",
     "text": [
      "buen de desempeño\n"
     ]
    }
   ],
   "source": [
    "#Clasificador\n",
    "puntaje = float(input('Introduce la clasificación: \\n'))\n",
    "if puntaje >= 9:\n",
    "    print('Excelente desempeño')\n",
    "elif puntaje >=7:\n",
    "    print('buen de desempeño')\n",
    "elif puntaje >= 5:\n",
    "    print('aprobado')\n",
    "else:\n",
    "    print('desaprobado')\n"
   ]
  }
 ],
 "metadata": {
  "kernelspec": {
   "display_name": "Python 3",
   "language": "python",
   "name": "python3"
  },
  "language_info": {
   "codemirror_mode": {
    "name": "ipython",
    "version": 3
   },
   "file_extension": ".py",
   "mimetype": "text/x-python",
   "name": "python",
   "nbconvert_exporter": "python",
   "pygments_lexer": "ipython3",
   "version": "3.11.2"
  },
  "orig_nbformat": 4
 },
 "nbformat": 4,
 "nbformat_minor": 2
}
