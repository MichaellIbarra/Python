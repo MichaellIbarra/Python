{
 "cells": [
  {
   "attachments": {},
   "cell_type": "markdown",
   "id": "badf4ecf",
   "metadata": {},
   "source": [
    "# VARIABLES \n",
    "## son espacios de la memoria que vamos a definir su nombre y asignar un valor\n",
    "### Python es un lenguaje de tipado dinámico, y no necesita que se declare el tipo de una variable. El nombre de cada variables debe cumplir\n",
    "##### . Solo puede incluir caracteres alfanumérico y 'underscore' (_)\n",
    "##### . No puede contener espacios en blaco\n",
    "##### . no puede empezar por un número \n",
    "##### . En Python el nombre de las variables es case sensitie, i.e: Python!= Python\n",
    "##### . Existen palabras reservadas que no pueden ser utlizadas para nombrar variables. Éstas son:\n",
    "> [ Python 3.x , False, as, continue, else, from, in, not, return, yield ]\n",
    "\n",
    "## EL símbolo de igualdad (=) se utliza para asignar valores a las variables."
   ]
  },
  {
   "cell_type": "code",
   "execution_count": 102,
   "id": "ad564d79",
   "metadata": {},
   "outputs": [],
   "source": [
    "x = 30\n",
    "nombre = 'la cartuja de parma'"
   ]
  },
  {
   "cell_type": "code",
   "execution_count": 103,
   "id": "c1c66ab4",
   "metadata": {},
   "outputs": [
    {
     "data": {
      "text/plain": [
       "30"
      ]
     },
     "execution_count": 103,
     "metadata": {},
     "output_type": "execute_result"
    }
   ],
   "source": [
    "x"
   ]
  },
  {
   "cell_type": "code",
   "execution_count": 104,
   "id": "dfd364e7",
   "metadata": {},
   "outputs": [
    {
     "data": {
      "text/plain": [
       "'la cartuja de parma'"
      ]
     },
     "execution_count": 104,
     "metadata": {},
     "output_type": "execute_result"
    }
   ],
   "source": [
    "nombre"
   ]
  },
  {
   "attachments": {},
   "cell_type": "markdown",
   "id": "2a164be8",
   "metadata": {},
   "source": [
    "### En Python los tipos primitivos son: números, cadenas de caracteres (string), booleanos, tuplas, listas y diccionarios.\n",
    "## Métodos\n",
    "### Son Funciones de clase, esto quiere decir que cada tipo de variable incluye unas funciones asociadas a ella desde su definición"
   ]
  },
  {
   "cell_type": "code",
   "execution_count": 105,
   "id": "24575175",
   "metadata": {},
   "outputs": [
    {
     "data": {
      "text/plain": [
       "48"
      ]
     },
     "execution_count": 105,
     "metadata": {},
     "output_type": "execute_result"
    }
   ],
   "source": [
    "x.__add__(18)"
   ]
  },
  {
   "attachments": {},
   "cell_type": "markdown",
   "id": "48ba1398",
   "metadata": {},
   "source": [
    "### Diccionarios son colecciones de variables o de datos"
   ]
  },
  {
   "cell_type": "code",
   "execution_count": 106,
   "id": "19f9d855",
   "metadata": {},
   "outputs": [
    {
     "data": {
      "text/plain": [
       "{'uno': 30, 'dos': 80}"
      ]
     },
     "execution_count": 106,
     "metadata": {},
     "output_type": "execute_result"
    }
   ],
   "source": [
    "diccionario = {'uno': x,  'dos': x.__add__(50)}; #uno y dos son claves , y : x estamos llamando las variables \n",
    "diccionario"
   ]
  },
  {
   "cell_type": "code",
   "execution_count": 107,
   "id": "497344ff",
   "metadata": {},
   "outputs": [
    {
     "name": "stdout",
     "output_type": "stream",
     "text": [
      " La Cartuja De Parma Cuesta 30 pesos \n",
      " y el otro libro 80 pesos. \n"
     ]
    }
   ],
   "source": [
    "#f-strings, puede insertar valores de variables dentro de una cadena utilizando llaves {}\n",
    "#print(f\"Hola, {nombre}\")\n",
    "print(f\" {nombre.title()} Cuesta {diccionario['uno']} pesos \\n y el otro libro {diccionario['dos']} pesos. \")"
   ]
  },
  {
   "attachments": {},
   "cell_type": "markdown",
   "id": "d8ca8fcf",
   "metadata": {},
   "source": [
    "### Se pueden revisar los métods disponibles de una variable utilizando la función dir()"
   ]
  },
  {
   "cell_type": "code",
   "execution_count": null,
   "id": "d5fd62de",
   "metadata": {},
   "outputs": [],
   "source": [
    "dir(x)"
   ]
  },
  {
   "attachments": {},
   "cell_type": "markdown",
   "id": "ad7c82e5",
   "metadata": {},
   "source": [
    "### La función help() nos muestra la información completa de cada variable"
   ]
  },
  {
   "cell_type": "code",
   "execution_count": null,
   "id": "5e18a6bd",
   "metadata": {},
   "outputs": [],
   "source": [
    "help(bool)"
   ]
  },
  {
   "attachments": {},
   "cell_type": "markdown",
   "id": "3d6dde2f",
   "metadata": {},
   "source": [
    "## Números\n",
    "### Podemos asignarle valores numéricos a las variables. Python tiene 4 tipos de variables para almacenarlos"
   ]
  },
  {
   "cell_type": "code",
   "execution_count": 110,
   "id": "37dcc8ae",
   "metadata": {},
   "outputs": [
    {
     "data": {
      "text/plain": [
       "2"
      ]
     },
     "execution_count": 110,
     "metadata": {},
     "output_type": "execute_result"
    }
   ],
   "source": [
    "1+1"
   ]
  },
  {
   "attachments": {},
   "cell_type": "markdown",
   "id": "b587f8f9",
   "metadata": {},
   "source": [
    "## A) INT\n",
    "### Para números enteros"
   ]
  },
  {
   "cell_type": "code",
   "execution_count": 111,
   "id": "a9ef3eee",
   "metadata": {},
   "outputs": [
    {
     "data": {
      "text/plain": [
       "10"
      ]
     },
     "execution_count": 111,
     "metadata": {},
     "output_type": "execute_result"
    }
   ],
   "source": [
    "x = 10\n",
    "x"
   ]
  },
  {
   "cell_type": "code",
   "execution_count": 112,
   "id": "3946c427",
   "metadata": {},
   "outputs": [
    {
     "data": {
      "text/plain": [
       "30"
      ]
     },
     "execution_count": 112,
     "metadata": {},
     "output_type": "execute_result"
    }
   ],
   "source": [
    "x + x.__add__(10)"
   ]
  },
  {
   "attachments": {},
   "cell_type": "markdown",
   "id": "f9caf3c5",
   "metadata": {},
   "source": [
    "## B) FLOAT\n",
    "### Para números dicimales"
   ]
  },
  {
   "attachments": {},
   "cell_type": "markdown",
   "id": "12b99cd8",
   "metadata": {},
   "source": [
    "### tipo de dato y es float poniendo el type()"
   ]
  },
  {
   "cell_type": "code",
   "execution_count": 113,
   "id": "6b071507",
   "metadata": {},
   "outputs": [
    {
     "data": {
      "text/plain": [
       "int"
      ]
     },
     "execution_count": 113,
     "metadata": {},
     "output_type": "execute_result"
    }
   ],
   "source": [
    "y = 4.5\n",
    "type(x)\n"
   ]
  },
  {
   "attachments": {},
   "cell_type": "markdown",
   "id": "bb624934",
   "metadata": {},
   "source": [
    "## C) COMPLEX\n",
    "### Para números complejos, o sea, de la forma (A + B) donde la unidad imaginaria está representada por j."
   ]
  },
  {
   "cell_type": "code",
   "execution_count": 114,
   "id": "04b92ccf",
   "metadata": {},
   "outputs": [
    {
     "data": {
      "text/plain": [
       "((1+5j), complex)"
      ]
     },
     "execution_count": 114,
     "metadata": {},
     "output_type": "execute_result"
    }
   ],
   "source": [
    "c = 1+5j\n",
    "c, type(c)"
   ]
  },
  {
   "cell_type": "code",
   "execution_count": 115,
   "id": "6009d517",
   "metadata": {},
   "outputs": [
    {
     "data": {
      "text/plain": [
       "(1.0, 5.0)"
      ]
     },
     "execution_count": 115,
     "metadata": {},
     "output_type": "execute_result"
    }
   ],
   "source": [
    "parte_real = c.real\n",
    "parte_imaginaria = c.imag\n",
    "parte_real, parte_imaginaria"
   ]
  },
  {
   "attachments": {},
   "cell_type": "markdown",
   "id": "ee52f8b1",
   "metadata": {},
   "source": [
    "## 2.3 Textos o Hilos de caracteres:\n",
    "### Consisten en secuencias de caracteres dentro de comillas. En python las variables string se puede declarar indistintamente usando comillas simples ('') o dobles (\"\")"
   ]
  },
  {
   "cell_type": "code",
   "execution_count": 116,
   "id": "585b62b8",
   "metadata": {},
   "outputs": [
    {
     "data": {
      "text/plain": [
       "'Esto es un texto o hilo'"
      ]
     },
     "execution_count": 116,
     "metadata": {},
     "output_type": "execute_result"
    }
   ],
   "source": [
    "\"Esto es un texto o hilo\"\n"
   ]
  },
  {
   "cell_type": "code",
   "execution_count": 117,
   "id": "4907fde8",
   "metadata": {},
   "outputs": [
    {
     "data": {
      "text/plain": [
       "'Este es un texto es uno distinto'"
      ]
     },
     "execution_count": 117,
     "metadata": {},
     "output_type": "execute_result"
    }
   ],
   "source": [
    "'Este es un texto es uno distinto'"
   ]
  },
  {
   "cell_type": "code",
   "execution_count": 118,
   "id": "a8c864ba",
   "metadata": {},
   "outputs": [
    {
     "name": "stdout",
     "output_type": "stream",
     "text": [
      "Giulia\n",
      "Magistrado técnico superior\n"
     ]
    }
   ],
   "source": [
    "nombre = \"Giulia\"\n",
    "carrera = 'Magistrado técnico superior'\n",
    "type(nombre), type(carrera)\n",
    "# nombre + carrera\n",
    "print(nombre)\n",
    "print(carrera)"
   ]
  },
  {
   "attachments": {},
   "cell_type": "markdown",
   "id": "0c274f42",
   "metadata": {},
   "source": [
    "## print()\n",
    "### Esta función nos permite mostrar por pantalla un texto editar su presentación con tabulaciones y saltos de línea"
   ]
  },
  {
   "cell_type": "code",
   "execution_count": 119,
   "id": "a72872ac",
   "metadata": {},
   "outputs": [
    {
     "name": "stdout",
     "output_type": "stream",
     "text": [
      "Una cadena \tseparada por una tabulación\n",
      "Una cadena en una línea \n",
      "una cadena en otra línea\n"
     ]
    }
   ],
   "source": [
    "print(\"Una cadena \\tseparada por una tabulación\")\n",
    "print(\"Una cadena en una línea \\nuna cadena en otra línea\")"
   ]
  },
  {
   "attachments": {},
   "cell_type": "markdown",
   "id": "8d7c9ca6",
   "metadata": {},
   "source": [
    "### Para que la función print nos muestre una cadena sin procesar debemos indicarle que la cadena es de tipo crudo, agregando la letra \"r\" antes de abrir comillas"
   ]
  },
  {
   "cell_type": "code",
   "execution_count": 120,
   "id": "0dd2a3e5",
   "metadata": {},
   "outputs": [
    {
     "name": "stdout",
     "output_type": "stream",
     "text": [
      "c:\n",
      "ombre\n",
      "ombre_2\n",
      "c:\\nombre\\nombre_3\n"
     ]
    }
   ],
   "source": [
    "print(\"c:\\nombre\\nombre_2\")\n",
    "print(r\"c:\\nombre\\nombre_3\")"
   ]
  },
  {
   "attachments": {},
   "cell_type": "markdown",
   "id": "93299b09",
   "metadata": {},
   "source": [
    "### También podemos indicarle que desamos mostrar el texto en varias líneas de la siguiente forma"
   ]
  },
  {
   "cell_type": "code",
   "execution_count": 121,
   "id": "ecae4b53",
   "metadata": {},
   "outputs": [],
   "source": [
    "## hacer esto mostrar un error al poner texto en varias líneas separadas\n",
    "# print(\"Línea 1 es ésta \n",
    "#y aqui tenemos línea 2\n",
    "#       \")"
   ]
  },
  {
   "cell_type": "code",
   "execution_count": 122,
   "id": "5bf0250b",
   "metadata": {},
   "outputs": [
    {
     "name": "stdout",
     "output_type": "stream",
     "text": [
      "jdnd jdnjdndjndj \n",
      "      enejnejnje\n",
      "      enejenj\n",
      "       djndjdnjdnd\n",
      "       Giulia\n",
      "         \n"
     ]
    }
   ],
   "source": [
    "print(f\"\"\"jdnd jdnjdndjndj \n",
    "      enejnejnje\n",
    "      enejenj\n",
    "       djndjdnjdnd\n",
    "       {nombre}\n",
    "         \"\"\")"
   ]
  },
  {
   "attachments": {},
   "cell_type": "markdown",
   "id": "eb4f9132",
   "metadata": {},
   "source": [
    "### 2.4 Booleanos\n",
    "### Un booleano es el tipo de dato lógico. Solo tiene dos categorías: verdadero 0 falso"
   ]
  },
  {
   "cell_type": "code",
   "execution_count": 123,
   "id": "a8d489de",
   "metadata": {},
   "outputs": [
    {
     "data": {
      "text/plain": [
       "2"
      ]
     },
     "execution_count": 123,
     "metadata": {},
     "output_type": "execute_result"
    }
   ],
   "source": [
    "1+1"
   ]
  },
  {
   "attachments": {},
   "cell_type": "markdown",
   "id": "49d24f0a",
   "metadata": {},
   "source": [
    "### El nombre signo == es un comando comparativo , la igualidad de los elementos de la derecha y izquierdad"
   ]
  },
  {
   "cell_type": "code",
   "execution_count": 124,
   "id": "cb56c7e0",
   "metadata": {},
   "outputs": [
    {
     "data": {
      "text/plain": [
       "True"
      ]
     },
     "execution_count": 124,
     "metadata": {},
     "output_type": "execute_result"
    }
   ],
   "source": [
    "1 +1 == 2 \n"
   ]
  },
  {
   "cell_type": "code",
   "execution_count": 125,
   "id": "9444dd48",
   "metadata": {},
   "outputs": [
    {
     "data": {
      "text/plain": [
       "False"
      ]
     },
     "execution_count": 125,
     "metadata": {},
     "output_type": "execute_result"
    }
   ],
   "source": [
    "1 + 1 == 3"
   ]
  },
  {
   "cell_type": "code",
   "execution_count": 126,
   "id": "727c15f2",
   "metadata": {},
   "outputs": [
    {
     "data": {
      "text/plain": [
       "True"
      ]
     },
     "execution_count": 126,
     "metadata": {},
     "output_type": "execute_result"
    }
   ],
   "source": [
    "variable = True\n",
    "variable\n",
    "\n"
   ]
  },
  {
   "cell_type": "code",
   "execution_count": 127,
   "id": "45f4504f",
   "metadata": {},
   "outputs": [
    {
     "data": {
      "text/plain": [
       "False"
      ]
     },
     "execution_count": 127,
     "metadata": {},
     "output_type": "execute_result"
    }
   ],
   "source": [
    "vari =False\n",
    "vari"
   ]
  },
  {
   "cell_type": "code",
   "execution_count": 128,
   "id": "bf8cd4d3",
   "metadata": {},
   "outputs": [
    {
     "data": {
      "text/plain": [
       "False"
      ]
     },
     "execution_count": 128,
     "metadata": {},
     "output_type": "execute_result"
    }
   ],
   "source": [
    "2 == variable"
   ]
  },
  {
   "cell_type": "code",
   "execution_count": 129,
   "id": "d7a7cba3",
   "metadata": {},
   "outputs": [
    {
     "data": {
      "text/plain": [
       "True"
      ]
     },
     "execution_count": 129,
     "metadata": {},
     "output_type": "execute_result"
    }
   ],
   "source": [
    "True and True"
   ]
  },
  {
   "cell_type": "code",
   "execution_count": 130,
   "id": "734ef2de",
   "metadata": {},
   "outputs": [
    {
     "data": {
      "text/plain": [
       "True"
      ]
     },
     "execution_count": 130,
     "metadata": {},
     "output_type": "execute_result"
    }
   ],
   "source": [
    "(2 == 1+1) and (3 == 1+2) #and (y)"
   ]
  },
  {
   "cell_type": "code",
   "execution_count": 131,
   "id": "7171a2cd",
   "metadata": {},
   "outputs": [
    {
     "data": {
      "text/plain": [
       "False"
      ]
     },
     "execution_count": 131,
     "metadata": {},
     "output_type": "execute_result"
    }
   ],
   "source": [
    "False and False"
   ]
  },
  {
   "cell_type": "code",
   "execution_count": 132,
   "id": "90411984",
   "metadata": {},
   "outputs": [
    {
     "data": {
      "text/plain": [
       "bool"
      ]
     },
     "execution_count": 132,
     "metadata": {},
     "output_type": "execute_result"
    }
   ],
   "source": [
    "type(variable)"
   ]
  },
  {
   "attachments": {},
   "cell_type": "markdown",
   "id": "4ad72bfa",
   "metadata": {},
   "source": [
    "## 2.5 Comprobación de tipos"
   ]
  },
  {
   "cell_type": "code",
   "execution_count": 133,
   "id": "0929ed7b",
   "metadata": {},
   "outputs": [
    {
     "name": "stdout",
     "output_type": "stream",
     "text": [
      "-1 <class 'int'>\n"
     ]
    }
   ],
   "source": [
    "print(-1, type(-1))"
   ]
  },
  {
   "cell_type": "code",
   "execution_count": 134,
   "id": "5914c418",
   "metadata": {},
   "outputs": [
    {
     "data": {
      "text/plain": [
       "3.209"
      ]
     },
     "execution_count": 134,
     "metadata": {},
     "output_type": "execute_result"
    }
   ],
   "source": [
    "yo = 3.209\n",
    "yo"
   ]
  },
  {
   "cell_type": "code",
   "execution_count": 135,
   "id": "4da54fbc",
   "metadata": {},
   "outputs": [
    {
     "name": "stdout",
     "output_type": "stream",
     "text": [
      "1.1313 <class 'float'>\n"
     ]
    }
   ],
   "source": [
    "print(1.1313, type(1.1313))"
   ]
  },
  {
   "cell_type": "code",
   "execution_count": 136,
   "id": "c4ef586d",
   "metadata": {},
   "outputs": [
    {
     "name": "stdout",
     "output_type": "stream",
     "text": [
      "hola <class 'str'>\n"
     ]
    }
   ],
   "source": [
    "print(\"hola\", type(\"hola\"))"
   ]
  },
  {
   "cell_type": "code",
   "execution_count": 137,
   "id": "b25f45a0",
   "metadata": {},
   "outputs": [
    {
     "name": "stdout",
     "output_type": "stream",
     "text": [
      "True <class 'bool'>\n"
     ]
    }
   ],
   "source": [
    "print(True, type(True))"
   ]
  },
  {
   "cell_type": "code",
   "execution_count": 138,
   "id": "70ad9555",
   "metadata": {},
   "outputs": [
    {
     "name": "stdout",
     "output_type": "stream",
     "text": [
      "None <class 'NoneType'>\n"
     ]
    }
   ],
   "source": [
    "print(None, type(None))"
   ]
  },
  {
   "attachments": {},
   "cell_type": "markdown",
   "id": "59fe220f",
   "metadata": {},
   "source": [
    "### Conversión de Tipos"
   ]
  },
  {
   "cell_type": "code",
   "execution_count": 139,
   "id": "8c8f40d9",
   "metadata": {},
   "outputs": [
    {
     "name": "stdout",
     "output_type": "stream",
     "text": [
      "<class 'int'>\n"
     ]
    }
   ],
   "source": [
    "x=2\n",
    "print(type(x))"
   ]
  },
  {
   "cell_type": "code",
   "execution_count": 140,
   "id": "a74772d8",
   "metadata": {},
   "outputs": [
    {
     "name": "stdout",
     "output_type": "stream",
     "text": [
      "<class 'str'>\n"
     ]
    }
   ],
   "source": [
    "nu_x = str(x)\n",
    "print(type(nu_x))"
   ]
  },
  {
   "attachments": {},
   "cell_type": "markdown",
   "id": "56bc496e",
   "metadata": {},
   "source": [
    "### También Podemos hacer conversión sin asignar valores a una variable"
   ]
  },
  {
   "cell_type": "code",
   "execution_count": 141,
   "id": "7a0abb3c",
   "metadata": {},
   "outputs": [
    {
     "name": "stdout",
     "output_type": "stream",
     "text": [
      "2\n"
     ]
    }
   ],
   "source": [
    "print(int(2.7))"
   ]
  },
  {
   "cell_type": "code",
   "execution_count": 142,
   "id": "e30b52d8",
   "metadata": {},
   "outputs": [
    {
     "name": "stdout",
     "output_type": "stream",
     "text": [
      "1 y el otro es 0\n"
     ]
    }
   ],
   "source": [
    "print(int(True), \"y el otro es\" , int(False))"
   ]
  },
  {
   "cell_type": "code",
   "execution_count": 143,
   "id": "ce2d328d",
   "metadata": {},
   "outputs": [
    {
     "name": "stdout",
     "output_type": "stream",
     "text": [
      "2\n"
     ]
    }
   ],
   "source": [
    "print(int(\"2\"))"
   ]
  },
  {
   "cell_type": "code",
   "execution_count": 144,
   "id": "f9a85121",
   "metadata": {},
   "outputs": [
    {
     "name": "stdout",
     "output_type": "stream",
     "text": [
      "2\n"
     ]
    }
   ],
   "source": [
    "print(str(\"2\"))"
   ]
  },
  {
   "cell_type": "code",
   "execution_count": 145,
   "id": "adfff375",
   "metadata": {},
   "outputs": [
    {
     "name": "stdout",
     "output_type": "stream",
     "text": [
      "3.1314\n"
     ]
    }
   ],
   "source": [
    "print(str(3.1314))"
   ]
  },
  {
   "cell_type": "code",
   "execution_count": 146,
   "id": "dc6cab1c",
   "metadata": {},
   "outputs": [
    {
     "name": "stdout",
     "output_type": "stream",
     "text": [
      "True Y el otro es False\n"
     ]
    }
   ],
   "source": [
    "print(str(True), \"Y el otro es\" , str(False))"
   ]
  },
  {
   "cell_type": "code",
   "execution_count": 147,
   "id": "dd39c1c3",
   "metadata": {},
   "outputs": [
    {
     "name": "stdout",
     "output_type": "stream",
     "text": [
      "None\n"
     ]
    }
   ],
   "source": [
    "print(str(None))"
   ]
  },
  {
   "attachments": {},
   "cell_type": "markdown",
   "id": "fea10d8f",
   "metadata": {},
   "source": [
    "### 2.6 Operadores Aritméticos\n",
    "####  Los operadores aritméticos sirven principalmente para los tipos de datos numéricos, si bien tienen algunas utilidades con otros tipos de datos como listas o cadenas de caracteres."
   ]
  },
  {
   "attachments": {},
   "cell_type": "markdown",
   "id": "7fac1267",
   "metadata": {},
   "source": [
    "### A) Adición\n",
    "#### También para cadenas de caracters, tuplas y listas. sigue la forma (a + b) / concatenar es unir "
   ]
  },
  {
   "cell_type": "code",
   "execution_count": 148,
   "id": "c842d138",
   "metadata": {},
   "outputs": [
    {
     "data": {
      "text/plain": [
       "38.5"
      ]
     },
     "execution_count": 148,
     "metadata": {},
     "output_type": "execute_result"
    }
   ],
   "source": [
    "8 + 30.5\n"
   ]
  },
  {
   "cell_type": "code",
   "execution_count": 149,
   "id": "67114557",
   "metadata": {},
   "outputs": [
    {
     "data": {
      "text/plain": [
       "14"
      ]
     },
     "execution_count": 149,
     "metadata": {},
     "output_type": "execute_result"
    }
   ],
   "source": [
    "7 + 7 "
   ]
  },
  {
   "cell_type": "code",
   "execution_count": 150,
   "id": "c76cf872",
   "metadata": {},
   "outputs": [
    {
     "data": {
      "text/plain": [
       "'hola cómo estás?'"
      ]
     },
     "execution_count": 150,
     "metadata": {},
     "output_type": "execute_result"
    }
   ],
   "source": [
    "'hola' + ' cómo estás?'"
   ]
  },
  {
   "attachments": {},
   "cell_type": "markdown",
   "id": "c1990f7f",
   "metadata": {},
   "source": [
    "### B) Sustracción"
   ]
  },
  {
   "cell_type": "code",
   "execution_count": 151,
   "id": "47100ca4",
   "metadata": {},
   "outputs": [
    {
     "data": {
      "text/plain": [
       "10"
      ]
     },
     "execution_count": 151,
     "metadata": {},
     "output_type": "execute_result"
    }
   ],
   "source": [
    "40 - 30"
   ]
  },
  {
   "attachments": {},
   "cell_type": "markdown",
   "id": "e6188e82",
   "metadata": {},
   "source": [
    "### C) Multiplicación\n",
    "#### También para cadenas de caracteres, tuplas y listas sigue la forma (A * B)"
   ]
  },
  {
   "cell_type": "code",
   "execution_count": 152,
   "id": "2efd767c",
   "metadata": {},
   "outputs": [
    {
     "data": {
      "text/plain": [
       "20.5"
      ]
     },
     "execution_count": 152,
     "metadata": {},
     "output_type": "execute_result"
    }
   ],
   "source": [
    "2.5*8.2"
   ]
  },
  {
   "cell_type": "code",
   "execution_count": 153,
   "id": "ff419626",
   "metadata": {},
   "outputs": [
    {
     "data": {
      "text/plain": [
       "'MichaellMichaell'"
      ]
     },
     "execution_count": 153,
     "metadata": {},
     "output_type": "execute_result"
    }
   ],
   "source": [
    "\"Michaell\"* 2 \n"
   ]
  },
  {
   "cell_type": "code",
   "execution_count": 154,
   "id": "65f00f48",
   "metadata": {},
   "outputs": [
    {
     "data": {
      "text/plain": [
       "'Michaell Michaell'"
      ]
     },
     "execution_count": 154,
     "metadata": {},
     "output_type": "execute_result"
    }
   ],
   "source": [
    "\"Michaell\" + \" Michaell\""
   ]
  },
  {
   "attachments": {},
   "cell_type": "markdown",
   "id": "8afe820d",
   "metadata": {},
   "source": [
    "### D) División\n",
    "#### Sigue la forma (a / b)"
   ]
  },
  {
   "cell_type": "code",
   "execution_count": 155,
   "metadata": {},
   "outputs": [
    {
     "data": {
      "text/plain": [
       "2.0"
      ]
     },
     "execution_count": 155,
     "metadata": {},
     "output_type": "execute_result"
    }
   ],
   "source": [
    "10/5"
   ]
  },
  {
   "attachments": {},
   "cell_type": "markdown",
   "id": "06513796",
   "metadata": {},
   "source": [
    "### E) División entera truncada\n",
    "#### Nos da como resultado un valor de tipo entero. Trunca(Redondea Hacia abajo) Los valores decimales. sigue la forma (a // b)"
   ]
  },
  {
   "cell_type": "code",
   "execution_count": 156,
   "id": "29bf4254",
   "metadata": {},
   "outputs": [
    {
     "data": {
      "text/plain": [
       "2"
      ]
     },
     "execution_count": 156,
     "metadata": {},
     "output_type": "execute_result"
    }
   ],
   "source": [
    "10 // 5"
   ]
  },
  {
   "attachments": {},
   "cell_type": "markdown",
   "id": "5e469760",
   "metadata": {},
   "source": [
    "### F) Módulo o residuo de la división\n",
    "#### Sigue la forma (a % b)"
   ]
  },
  {
   "cell_type": "code",
   "execution_count": 157,
   "id": "60c9666b",
   "metadata": {},
   "outputs": [
    {
     "name": "stdout",
     "output_type": "stream",
     "text": [
      "2\n",
      "1\n"
     ]
    }
   ],
   "source": [
    "print(5%3)\n",
    "print(5 // 3)"
   ]
  },
  {
   "attachments": {},
   "cell_type": "markdown",
   "id": "78e671e7",
   "metadata": {},
   "source": [
    "### G) Exponenciación\n",
    "#### Sigue la forma (a ** b)"
   ]
  },
  {
   "cell_type": "code",
   "execution_count": 158,
   "id": "9a55629d",
   "metadata": {},
   "outputs": [
    {
     "data": {
      "text/plain": [
       "32"
      ]
     },
     "execution_count": 158,
     "metadata": {},
     "output_type": "execute_result"
    }
   ],
   "source": [
    "2 ** 5"
   ]
  },
  {
   "attachments": {},
   "cell_type": "markdown",
   "id": "bc3a3ca8",
   "metadata": {},
   "source": [
    "### Operadores de asignación\n",
    "#### Los operadores de asignación nos facilitan escribir código. Esto son los siguientes\n",
    "> [=; -=; ; +=; /=; *=; %=; //= ; **=]"
   ]
  },
  {
   "cell_type": "code",
   "execution_count": 159,
   "id": "d03c99aa",
   "metadata": {},
   "outputs": [
    {
     "name": "stdout",
     "output_type": "stream",
     "text": [
      "10\n"
     ]
    }
   ],
   "source": [
    "edad = 10\n",
    "print(edad)"
   ]
  },
  {
   "cell_type": "code",
   "execution_count": 160,
   "id": "30aae204",
   "metadata": {},
   "outputs": [
    {
     "name": "stdout",
     "output_type": "stream",
     "text": [
      "7\n"
     ]
    }
   ],
   "source": [
    "edad = edad -3\n",
    "print(edad)"
   ]
  },
  {
   "cell_type": "code",
   "execution_count": 161,
   "id": "adbc19c2",
   "metadata": {},
   "outputs": [
    {
     "name": "stdout",
     "output_type": "stream",
     "text": [
      "10\n"
     ]
    }
   ],
   "source": [
    "edad = 10\n",
    "print(edad)"
   ]
  },
  {
   "cell_type": "code",
   "execution_count": 162,
   "id": "363ac136",
   "metadata": {},
   "outputs": [
    {
     "name": "stdout",
     "output_type": "stream",
     "text": [
      "7\n"
     ]
    }
   ],
   "source": [
    "edad -=3\n",
    "print(edad)"
   ]
  },
  {
   "cell_type": "code",
   "execution_count": 163,
   "id": "cbb513e6",
   "metadata": {},
   "outputs": [
    {
     "name": "stdout",
     "output_type": "stream",
     "text": [
      "10\n"
     ]
    }
   ],
   "source": [
    "edad += 3\n",
    "print(edad)"
   ]
  },
  {
   "cell_type": "code",
   "execution_count": 164,
   "id": "8d7d1972",
   "metadata": {},
   "outputs": [
    {
     "name": "stdout",
     "output_type": "stream",
     "text": [
      "2.0\n"
     ]
    }
   ],
   "source": [
    "edad /= 5\n",
    "print(edad)"
   ]
  },
  {
   "attachments": {},
   "cell_type": "markdown",
   "id": "1db7eefb",
   "metadata": {},
   "source": [
    "### Operadores Lógicos\n",
    "#### Los operadores lógicos siguen las reglas de la lógica proposicional\n",
    "##### A) And (y)"
   ]
  },
  {
   "cell_type": "code",
   "execution_count": 165,
   "id": "357aa80f",
   "metadata": {},
   "outputs": [
    {
     "data": {
      "text/plain": [
       "False"
      ]
     },
     "execution_count": 165,
     "metadata": {},
     "output_type": "execute_result"
    }
   ],
   "source": [
    "True and False"
   ]
  },
  {
   "cell_type": "code",
   "execution_count": 166,
   "id": "1ef2598f",
   "metadata": {},
   "outputs": [
    {
     "data": {
      "text/plain": [
       "True"
      ]
     },
     "execution_count": 166,
     "metadata": {},
     "output_type": "execute_result"
    }
   ],
   "source": [
    "True and True"
   ]
  },
  {
   "cell_type": "code",
   "execution_count": 167,
   "id": "8f963141",
   "metadata": {},
   "outputs": [
    {
     "data": {
      "text/plain": [
       "False"
      ]
     },
     "execution_count": 167,
     "metadata": {},
     "output_type": "execute_result"
    }
   ],
   "source": [
    "False and False"
   ]
  },
  {
   "attachments": {},
   "cell_type": "markdown",
   "id": "5ee27287",
   "metadata": {},
   "source": [
    "#### B) OR (o)"
   ]
  },
  {
   "cell_type": "code",
   "execution_count": 168,
   "id": "0df4f40c",
   "metadata": {},
   "outputs": [
    {
     "data": {
      "text/plain": [
       "True"
      ]
     },
     "execution_count": 168,
     "metadata": {},
     "output_type": "execute_result"
    }
   ],
   "source": [
    "True or False"
   ]
  },
  {
   "cell_type": "code",
   "execution_count": 169,
   "id": "adc377e2",
   "metadata": {},
   "outputs": [
    {
     "data": {
      "text/plain": [
       "True"
      ]
     },
     "execution_count": 169,
     "metadata": {},
     "output_type": "execute_result"
    }
   ],
   "source": [
    "True or True"
   ]
  },
  {
   "cell_type": "code",
   "execution_count": 170,
   "id": "7b900b64",
   "metadata": {},
   "outputs": [
    {
     "data": {
      "text/plain": [
       "False"
      ]
     },
     "execution_count": 170,
     "metadata": {},
     "output_type": "execute_result"
    }
   ],
   "source": [
    "False or False"
   ]
  },
  {
   "attachments": {},
   "cell_type": "markdown",
   "id": "44c019a2",
   "metadata": {},
   "source": [
    "#### C) NOT"
   ]
  },
  {
   "cell_type": "code",
   "execution_count": 172,
   "id": "2129445f",
   "metadata": {},
   "outputs": [
    {
     "data": {
      "text/plain": [
       "False"
      ]
     },
     "execution_count": 172,
     "metadata": {},
     "output_type": "execute_result"
    }
   ],
   "source": [
    "not True"
   ]
  },
  {
   "cell_type": "code",
   "execution_count": 173,
   "id": "616e75cf",
   "metadata": {},
   "outputs": [
    {
     "data": {
      "text/plain": [
       "True"
      ]
     },
     "execution_count": 173,
     "metadata": {},
     "output_type": "execute_result"
    }
   ],
   "source": [
    "not False"
   ]
  },
  {
   "attachments": {},
   "cell_type": "markdown",
   "id": "2c66b2ee",
   "metadata": {},
   "source": [
    "### Operadores de comparación\n",
    "> [== ; !=; <; >; >=; <=]\n",
    "#### Para probar igualdad usamos el operador =="
   ]
  },
  {
   "cell_type": "code",
   "execution_count": 180,
   "id": "b3b74244",
   "metadata": {},
   "outputs": [
    {
     "name": "stdout",
     "output_type": "stream",
     "text": [
      "¿Se cumple que 2 == 2\n",
      " False\n"
     ]
    }
   ],
   "source": [
    "print(\"¿Se cumple que 2 == 2\\n\", 2 == 3)"
   ]
  },
  {
   "attachments": {},
   "cell_type": "markdown",
   "id": "f228c552",
   "metadata": {},
   "source": [
    "#### Para probar desigualdad se usa el operador !="
   ]
  },
  {
   "cell_type": "code",
   "execution_count": 1,
   "id": "b0f9a8df",
   "metadata": {},
   "outputs": [
    {
     "name": "stdout",
     "output_type": "stream",
     "text": [
      "¿Se cumple que 2 != 2\n",
      " False\n"
     ]
    }
   ],
   "source": [
    "print(\"¿Se cumple que 2 != 2\\n\", 3 !=3)"
   ]
  },
  {
   "attachments": {},
   "cell_type": "markdown",
   "id": "9f3a76a0",
   "metadata": {},
   "source": [
    "### Para comprar magnitudes usamos <, >, >=, <="
   ]
  },
  {
   "cell_type": "code",
   "execution_count": 2,
   "id": "2fa5103b",
   "metadata": {},
   "outputs": [
    {
     "name": "stdout",
     "output_type": "stream",
     "text": [
      "¿se cumple que 2 > 3\n",
      " False\n"
     ]
    }
   ],
   "source": [
    "print(\"¿se cumple que 2 > 3\\n\", 2 >3)"
   ]
  },
  {
   "cell_type": "code",
   "execution_count": 3,
   "id": "86a278da",
   "metadata": {},
   "outputs": [
    {
     "name": "stdout",
     "output_type": "stream",
     "text": [
      "¿Se cumple que 2 < 3 \n",
      " True\n"
     ]
    }
   ],
   "source": [
    "print(\"¿Se cumple que 2 < 3 \\n\", 2 < 3)"
   ]
  },
  {
   "cell_type": "code",
   "execution_count": 12,
   "id": "fea2ca58",
   "metadata": {},
   "outputs": [
    {
     "name": "stdout",
     "output_type": "stream",
     "text": [
      "¿Se cumple que 2 <=3\n",
      " True\n"
     ]
    }
   ],
   "source": [
    "print(\"¿Se cumple que 2 <=3\\n\", 2 <= 3)"
   ]
  },
  {
   "cell_type": "code",
   "execution_count": 16,
   "id": "18398d6d",
   "metadata": {},
   "outputs": [
    {
     "name": "stdout",
     "output_type": "stream",
     "text": [
      "¿Se cumple que 2 >= 3 \n",
      " False\n"
     ]
    }
   ],
   "source": [
    "print(\"¿Se cumple que 2 >= 3 \\n\", 2 >= 3)"
   ]
  },
  {
   "attachments": {},
   "cell_type": "markdown",
   "id": "750dae1e",
   "metadata": {},
   "source": [
    "### Los operadores básicos de compración (<, <=, >, >=, ==, !=) también aplican a las cadenas de caracteres. Para compararlas siguen el estándar ASCII\n",
    "### ! \" # $ % & ' ( ) * + , - . / 0 1 2 3 4 5 6 7 8 9 : ; < = > ?\n",
    "### @ A B C D E F G H I J K L M N O P Q R S T U V W X Y Z [ \\ ] ^ _\n",
    "#### ` a b c d e f g h i j k l m n o p q r s t u v w x y z { | } ~  "
   ]
  },
  {
   "cell_type": "code",
   "execution_count": 21,
   "id": "a960ee1b",
   "metadata": {},
   "outputs": [
    {
     "name": "stdout",
     "output_type": "stream",
     "text": [
      "False \n",
      " True\n"
     ]
    }
   ],
   "source": [
    "print(\"c\" > \"d\",\"\\n\", \"c\"> \"b\")"
   ]
  },
  {
   "cell_type": "code",
   "execution_count": 23,
   "id": "19f84f59",
   "metadata": {},
   "outputs": [
    {
     "name": "stdout",
     "output_type": "stream",
     "text": [
      "False\n"
     ]
    }
   ],
   "source": [
    "print(\"casa\" > \"perro\") #Si empezamos a contar desde la A: la C tiene un valor de 3 mientras que la P tiene un valor de 16"
   ]
  },
  {
   "cell_type": "code",
   "execution_count": 24,
   "id": "b8fcc979",
   "metadata": {},
   "outputs": [
    {
     "name": "stdout",
     "output_type": "stream",
     "text": [
      "True\n"
     ]
    }
   ],
   "source": [
    "print(\"casa\" > \"cabra\")"
   ]
  },
  {
   "attachments": {},
   "cell_type": "markdown",
   "id": "c9b55a8c",
   "metadata": {},
   "source": [
    "### 2.8 Lectura por teclado\n",
    "#### La función input() permite almacenar un valor ingresado con el teclado en una variable"
   ]
  },
  {
   "cell_type": "code",
   "execution_count": 120,
   "id": "d1e053a8",
   "metadata": {},
   "outputs": [],
   "source": [
    "valor = input()"
   ]
  },
  {
   "cell_type": "code",
   "execution_count": 121,
   "id": "372843e7",
   "metadata": {},
   "outputs": [
    {
     "data": {
      "text/plain": [
       "'35'"
      ]
     },
     "execution_count": 121,
     "metadata": {},
     "output_type": "execute_result"
    }
   ],
   "source": [
    "valor"
   ]
  },
  {
   "attachments": {},
   "cell_type": "markdown",
   "id": "b1158f9c",
   "metadata": {},
   "source": [
    "### La función input() almacena todo como variable str. Pero se puede modificar este tipo"
   ]
  },
  {
   "cell_type": "code",
   "execution_count": 122,
   "id": "4af5670d",
   "metadata": {},
   "outputs": [
    {
     "data": {
      "text/plain": [
       "5.0"
      ]
     },
     "execution_count": 122,
     "metadata": {},
     "output_type": "execute_result"
    }
   ],
   "source": [
    "type(valor)\n",
    "valor_num = float(input('introduce un número: '))\n",
    "valor_num\n"
   ]
  },
  {
   "cell_type": "code",
   "execution_count": 123,
   "id": "bffc0c9d",
   "metadata": {},
   "outputs": [],
   "source": [
    "edad = int(input(\"ingresa tu edad:\"))"
   ]
  },
  {
   "cell_type": "code",
   "execution_count": 124,
   "id": "795b9ee4",
   "metadata": {},
   "outputs": [
    {
     "name": "stdout",
     "output_type": "stream",
     "text": [
      "8 <class 'int'>\n"
     ]
    }
   ],
   "source": [
    "print(edad, type(edad))"
   ]
  },
  {
   "attachments": {},
   "cell_type": "markdown",
   "id": "a3d82f91",
   "metadata": {},
   "source": [
    "### 2.9 Formateo\n",
    "#### Propiedad de cadena de texto es permitir dejar espacio para que al final vamos a definir que valores van aparecer"
   ]
  },
  {
   "cell_type": "code",
   "execution_count": 23,
   "id": "fc005a21",
   "metadata": {},
   "outputs": [
    {
     "data": {
      "text/plain": [
       "'1 es el primer valor y 2 es el segundo'"
      ]
     },
     "execution_count": 23,
     "metadata": {},
     "output_type": "execute_result"
    }
   ],
   "source": [
    "'{} es el primer valor y {} es el segundo'.format(1,2)\n"
   ]
  },
  {
   "cell_type": "code",
   "execution_count": 34,
   "id": "d51cf098",
   "metadata": {},
   "outputs": [
    {
     "name": "stdout",
     "output_type": "stream",
     "text": [
      "Mi perro se llama Doki y mi amigo se llama juan\n"
     ]
    }
   ],
   "source": [
    "print('Mi perro se llama {} y mi amigo se llama {}'.format(\"Doki\", \"juan\"))"
   ]
  },
  {
   "cell_type": "code",
   "execution_count": 35,
   "id": "3b4cf83e",
   "metadata": {},
   "outputs": [
    {
     "data": {
      "text/plain": [
       "'En este caso alteramos el orden y el dos aparece primero, luego el uno'"
      ]
     },
     "execution_count": 35,
     "metadata": {},
     "output_type": "execute_result"
    }
   ],
   "source": [
    "'En este caso alteramos el orden y el {1} aparece primero, luego el {0}'.format('uno', 'dos') #primero se comienza desde el 0"
   ]
  },
  {
   "cell_type": "code",
   "execution_count": 36,
   "id": "a5bdecbb",
   "metadata": {},
   "outputs": [
    {
     "name": "stdout",
     "output_type": "stream",
     "text": [
      "el valor de la cartuja de parma es 0.7\n"
     ]
    }
   ],
   "source": [
    "nombre = 'la cartuja de parma'\n",
    "x = .7\n",
    "print(f'el valor de {nombre} es', x)"
   ]
  },
  {
   "attachments": {},
   "cell_type": "markdown",
   "id": "b64e0bcb",
   "metadata": {},
   "source": [
    "### También podemos aplicar métodos"
   ]
  },
  {
   "cell_type": "code",
   "execution_count": 37,
   "id": "39ec4f5b",
   "metadata": {},
   "outputs": [
    {
     "name": "stdout",
     "output_type": "stream",
     "text": [
      " El valor de La Cartuja De Parma \n",
      " es de 0.7 por el papel\n"
     ]
    }
   ],
   "source": [
    "print(f' El valor de {nombre.title()} \\n es de', x , 'por el papel')"
   ]
  },
  {
   "cell_type": "code",
   "execution_count": 38,
   "id": "22a9a2d5",
   "metadata": {},
   "outputs": [
    {
     "name": "stdout",
     "output_type": "stream",
     "text": [
      "el valor de La Cartuja De Parma \n",
      " es 0.7 Dólares por el papel\n"
     ]
    }
   ],
   "source": [
    "print(f'el valor de {nombre.title()} \\n es', x, 'Dólares por el papel') # .title hace que sea como un titulo la palabra y comienze todas con mayusculas"
   ]
  },
  {
   "cell_type": "code",
   "execution_count": 39,
   "id": "6e2c30d8",
   "metadata": {},
   "outputs": [],
   "source": [
    "name = \"michaell\"\n",
    "apellido = \"ibarra\"\n",
    "edad = 17"
   ]
  },
  {
   "cell_type": "code",
   "execution_count": 40,
   "id": "9e89e4a9",
   "metadata": {},
   "outputs": [
    {
     "name": "stdout",
     "output_type": "stream",
     "text": [
      "{'uno': 'michaell estiven', 'dos': 'ibarra Martinez', 'tres': 27}\n"
     ]
    }
   ],
   "source": [
    "identificacion = { 'uno':name.__add__(\" estiven\"), 'dos': apellido.__add__(\" Martinez\"), 'tres': edad.__add__(10)}\n",
    "print(identificacion)"
   ]
  },
  {
   "cell_type": "code",
   "execution_count": 41,
   "id": "53e4fd1e",
   "metadata": {},
   "outputs": [
    {
     "name": "stdout",
     "output_type": "stream",
     "text": [
      " Tu nombre es: michaell estiven \n",
      " Tu apellido es: ibarra Martinez \n",
      " Tu edad es: 27\n"
     ]
    }
   ],
   "source": [
    "print(f' Tu nombre es: {identificacion[\"uno\"]} \\n Tu apellido es: {identificacion[\"dos\"]} \\n Tu edad es: {identificacion[\"tres\"]}')"
   ]
  },
  {
   "cell_type": "code",
   "execution_count": 42,
   "id": "0d504613",
   "metadata": {},
   "outputs": [
    {
     "name": "stdout",
     "output_type": "stream",
     "text": [
      "{'uno': 0.7, 'dos': 10.7}\n"
     ]
    }
   ],
   "source": [
    "diccionarioo = {'uno': x,  'dos': x.__add__(10)}\n",
    "print(diccionarioo)"
   ]
  },
  {
   "cell_type": "code",
   "execution_count": 43,
   "id": "b0e176d5",
   "metadata": {},
   "outputs": [],
   "source": [
    "#print(f' {nombre.title()} cuesta {diccionarioo[\"uno\"]} \\n y el otro libro {diccionarioo[\"dos\"]} pesos')"
   ]
  },
  {
   "cell_type": "code",
   "execution_count": 44,
   "id": "f62b8d89",
   "metadata": {},
   "outputs": [
    {
     "name": "stdout",
     "output_type": "stream",
     "text": [
      " La Cartuja De Parma cuesta 0.7 pesos \n",
      " y el otro libro 10.7 pesos.\n"
     ]
    }
   ],
   "source": [
    "print(f' {nombre.title()} cuesta {diccionarioo[\"uno\"]} pesos \\n y el otro libro {diccionarioo[\"dos\"]} pesos.')"
   ]
  },
  {
   "attachments": {},
   "cell_type": "markdown",
   "id": "3ec48575",
   "metadata": {},
   "source": [
    "### 2.10 Ejercicios\n",
    "#### 1) Define una variable edad y asígnale un valor entero.\n",
    "> Muestra a su valor por pantalla\n",
    "\n",
    "> Define otra variable edad_cadena que contenga el valor de edad como una cadena de caracteres\n",
    "\n",
    "> Comprueba el tipo de la nueva varible\n",
    "\n",
    "> Utiliza la variable edad que has definido previamente y calcula la edad que tendría esa persona en el año 2035"
   ]
  },
  {
   "cell_type": "code",
   "execution_count": 8,
   "id": "263e7e53",
   "metadata": {},
   "outputs": [
    {
     "name": "stdout",
     "output_type": "stream",
     "text": [
      "17\n"
     ]
    }
   ],
   "source": [
    "miedad = 17\n",
    "print(miedad)"
   ]
  },
  {
   "cell_type": "code",
   "execution_count": 9,
   "id": "89acacdd",
   "metadata": {},
   "outputs": [
    {
     "data": {
      "text/plain": [
       "'17'"
      ]
     },
     "execution_count": 9,
     "metadata": {},
     "output_type": "execute_result"
    }
   ],
   "source": [
    "edad_cadena = str(miedad)\n",
    "print(type(edad_cadena))"
   ]
  },
  {
   "cell_type": "code",
   "execution_count": 12,
   "id": "568cbd84",
   "metadata": {},
   "outputs": [
    {
     "name": "stdout",
     "output_type": "stream",
     "text": [
      "29\n"
     ]
    }
   ],
   "source": [
    "edad_2035 = (2035 - 2023) + miedad\n",
    "print(edad_2035)"
   ]
  },
  {
   "cell_type": "code",
   "execution_count": 21,
   "id": "ba8545d8",
   "metadata": {},
   "outputs": [
    {
     "name": "stdout",
     "output_type": "stream",
     "text": [
      "Tu edad es:  28\n"
     ]
    }
   ],
   "source": [
    "tuedad = int(input())\n",
    "tuedad_2035 = (2035 -2023) + tuedad\n",
    "\n",
    "print('Tu edad es: ', tuedad_2035)"
   ]
  },
  {
   "attachments": {},
   "cell_type": "markdown",
   "id": "d971abc3",
   "metadata": {},
   "source": [
    "### 2) Al realizar una consulta en un registro hemos recibido unos valores corruptos. Al parecer entrega el nombre y apellido del alumno al revés. ¿Qué puede hacer para obtener el siguente mensaje por pantalla\n",
    "> Nombre apellido ha sacado un Nota"
   ]
  },
  {
   "cell_type": "code",
   "execution_count": 30,
   "id": "455d84b2",
   "metadata": {},
   "outputs": [
    {
     "data": {
      "text/plain": [
       "'10 ,Michelle Cabeza'"
      ]
     },
     "execution_count": 30,
     "metadata": {},
     "output_type": "execute_result"
    }
   ],
   "source": [
    "cadena = \"azebaC ellehciM, 01\"\n",
    "cadena_volteada = cadena[:: -1] ## :: va a leer desde la ultima letra\n",
    "cadena_volteada"
   ]
  },
  {
   "cell_type": "code",
   "execution_count": 35,
   "id": "16f78eef",
   "metadata": {},
   "outputs": [
    {
     "name": "stdout",
     "output_type": "stream",
     "text": [
      "Michelle Cabeza ha sacado un  10\n"
     ]
    }
   ],
   "source": [
    "print(cadena_volteada[4:], \"ha sacado un \", cadena_volteada[:2])"
   ]
  },
  {
   "attachments": {},
   "cell_type": "markdown",
   "id": "639c91fd",
   "metadata": {},
   "source": [
    "### 3) Utilizando operadores lógicos determina si una cadena de texto introducida por el usuario tiene una longitud mayor o igual a 3 menor o igual a 12 (Basta con mostrar True o False)"
   ]
  },
  {
   "cell_type": "code",
   "execution_count": 38,
   "id": "43ca5694",
   "metadata": {},
   "outputs": [
    {
     "name": "stdout",
     "output_type": "stream",
     "text": [
      " ¿la longitud de su texto es mayor o igual que 3 pero menor o igual que 12? \n",
      " False\n"
     ]
    }
   ],
   "source": [
    "cadena = input('Escriba un texto: ')\n",
    "print(' ¿la longitud de su texto es mayor o igual que 3 pero menor o igual que 12? \\n', len(cadena) >= 3 and len(cadena) <=12)"
   ]
  },
  {
   "cell_type": "code",
   "execution_count": 42,
   "id": "f8d3a657",
   "metadata": {},
   "outputs": [
    {
     "name": "stdout",
     "output_type": "stream",
     "text": [
      " la longitud de su texto es mayor o igual que 3 pero menor o igual que 12?\n",
      " tu cadnea es, oneoinoineonioenfio y el resultado es \n",
      " False\n"
     ]
    }
   ],
   "source": [
    "cadena_user = input('pon un texto: ')\n",
    "print(' la longitud de su texto es mayor o igual que 3 pero menor o igual que 12?\\n', f'tu cadnea es, {cadena_user} y el resultado es \\n' ,len(cadena_user) >= 3 and len(cadena_user) <= 12)"
   ]
  },
  {
   "attachments": {},
   "cell_type": "markdown",
   "id": "733fc3d7",
   "metadata": {},
   "source": [
    "### 4) Realiza un programa que lea 2 números por teclado y determine los siguentes aspectos (es suficiente con mostrar True o False)\n",
    "> Si los dos números son iguales\n",
    "\n",
    "> Si los dos números son diferentes\n",
    "\n",
    "> Si el primero es mayor que el segundo\n",
    "\n",
    "> Si el segundo es mayor o igual que el primero"
   ]
  },
  {
   "cell_type": "code",
   "execution_count": 2,
   "id": "5e2efb13",
   "metadata": {},
   "outputs": [
    {
     "name": "stdout",
     "output_type": "stream",
     "text": [
      "es diferente\n",
      " Tu primer Número es int(2.0), Tu segundo Número es 3.0\n",
      "¿Los números son iguales? False\n",
      "¿Los números son diferentes? True\n",
      "¿El primero es mayor o igual que el segundo? False\n",
      "¿El segundo es mayor o igual que el primero? True\n"
     ]
    }
   ],
   "source": [
    "n1 = float(input(\"ingresa el primer número\"))\n",
    "n2 = float(input(\"ingresa el segundo número\"))\n",
    "\n",
    "# if n1 == n2:\n",
    "#     print(\"es igual\")\n",
    "# else:\n",
    "#     print(\"es diferente\")\n",
    "\n",
    "print(f' Tu primer Número es {n1}, Tu segundo Número es {n2}')\n",
    "print('¿Los números son iguales?', n1 == n2)\n",
    "print('¿Los números son diferentes?', n1 != n2) \n",
    "print('¿El primero es mayor o igual que el segundo?', n1 >= n2)\n",
    "print('¿El segundo es mayor o igual que el primero?', n1 <= n2)"
   ]
  },
  {
   "attachments": {},
   "cell_type": "markdown",
   "id": "e30b1b3d",
   "metadata": {},
   "source": [
    "### 3.1 Ïndices y slicing\n",
    "#### Los índices son números ordenados asociados a las variables que nos permiten identificar los elementos por su posición.\n",
    "##### Por ejemplo, cada elemento de una cadena tiene un índice\n"
   ]
  },
  {
   "attachments": {},
   "cell_type": "markdown",
   "id": "303fea3b",
   "metadata": {},
   "source": [
    "### El primer elemento siempre tiene el índice 0 porque con este número inicia la numeración"
   ]
  },
  {
   "cell_type": "code",
   "execution_count": 2,
   "id": "ca63ca8f",
   "metadata": {},
   "outputs": [
    {
     "name": "stdout",
     "output_type": "stream",
     "text": [
      "E S T A\n"
     ]
    }
   ],
   "source": [
    "text = 'ESTA-CADENA'\n",
    "print(text[0],text[1],text[2],text[3])"
   ]
  },
  {
   "attachments": {},
   "cell_type": "markdown",
   "id": "0ea505fc",
   "metadata": {},
   "source": [
    "### También a causa de esto, el índice del último elementos se diferencia del número total de elementos por una unidad\n",
    "> [texto[0], texto[1], ... texto[n-3], texto[n-2], texto[n-1]]"
   ]
  },
  {
   "cell_type": "code",
   "execution_count": 3,
   "id": "9e699c4c",
   "metadata": {},
   "outputs": [
    {
     "name": "stdout",
     "output_type": "stream",
     "text": [
      "C A D E N A\n"
     ]
    }
   ],
   "source": [
    "print(text[5], text[6], text[7], text[8], text[9], text[10])"
   ]
  },
  {
   "attachments": {},
   "cell_type": "markdown",
   "id": "0ae08639",
   "metadata": {},
   "source": [
    "### Para cada elemento también existe un índice inverso que realiza una numeración desde el último elemento hasta el primero, empezando la cuenta con -1"
   ]
  },
  {
   "cell_type": "code",
   "execution_count": 4,
   "id": "fb8793f3",
   "metadata": {},
   "outputs": [
    {
     "name": "stdout",
     "output_type": "stream",
     "text": [
      "C A D E N A\n"
     ]
    }
   ],
   "source": [
    "# -6 \\ -5 \\ -4 \\ -3 \\ -2 \\ -1\n",
    "#  C    A    D    E   N    A\n",
    "# 5 /   6 /  7 /  8 / 9 / 10\n",
    "print(text[-6], text[-5], text[-4], text[-3], text[-2], text[-1])"
   ]
  },
  {
   "attachments": {},
   "cell_type": "markdown",
   "id": "c0258f35",
   "metadata": {},
   "source": [
    "### Slicing\n",
    "#### Gracias a los índices podemos seleccionar una secuencia de elementos de una variable. Esto se conoce como slicing\n",
    "#### La secuencia de elementos la definimos con el formato [a:b]. Esto es un rango de valores, y el slicing va a devolvernos desde el elemento a hasta el elemento previo al b, así que vamos a decir que b está excluido del rango.\n",
    "><b>Protip</b> cuando un rango de valores excluye alguno de sus límites (siendo a el límite inferior, y b el límite superior), se dice que el rango es abierto:\n",
    "\n",
    "----> Abierto por la derecha, si excluye a B\n",
    "\n",
    "----> Abierto por la izquierda, si excluye a A"
   ]
  },
  {
   "cell_type": "code",
   "execution_count": 6,
   "id": "411f6a88",
   "metadata": {},
   "outputs": [
    {
     "data": {
      "text/plain": [
       "'ES'"
      ]
     },
     "execution_count": 6,
     "metadata": {},
     "output_type": "execute_result"
    }
   ],
   "source": [
    "#text = 'ESTA-CADENA'\n",
    "# [a:b]\n",
    "text[:2] # excluye la ultimo número"
   ]
  },
  {
   "cell_type": "code",
   "execution_count": 7,
   "id": "3469ebb0",
   "metadata": {},
   "outputs": [
    {
     "data": {
      "text/plain": [
       "'CADEN'"
      ]
     },
     "execution_count": 7,
     "metadata": {},
     "output_type": "execute_result"
    }
   ],
   "source": [
    "text[-6:-1]"
   ]
  },
  {
   "attachments": {},
   "cell_type": "markdown",
   "id": "b7738897",
   "metadata": {},
   "source": [
    "### Podemos omitir especificar alguno de los límites:\n",
    "> Si omitimos a [:b], empezará la secuencia desde el índice 0. (Equivale a escribir [0 : b])\n",
    "\n",
    "> SI omitimos b [a: ], terminará la secuencia con el último elemento. (Equivale a escribir [a: (n-1)])"
   ]
  },
  {
   "cell_type": "code",
   "execution_count": 11,
   "id": "9556f028",
   "metadata": {},
   "outputs": [
    {
     "data": {
      "text/plain": [
       "'CADENA'"
      ]
     },
     "execution_count": 11,
     "metadata": {},
     "output_type": "execute_result"
    }
   ],
   "source": [
    "#text = 'ESTA-CADENA'\n",
    "text[-6:]"
   ]
  },
  {
   "cell_type": "code",
   "execution_count": 12,
   "id": "b99a87d9",
   "metadata": {},
   "outputs": [
    {
     "data": {
      "text/plain": [
       "'ESTA'"
      ]
     },
     "execution_count": 12,
     "metadata": {},
     "output_type": "execute_result"
    }
   ],
   "source": [
    "text[:4]"
   ]
  },
  {
   "cell_type": "code",
   "execution_count": 13,
   "id": "8bf3172f",
   "metadata": {},
   "outputs": [
    {
     "data": {
      "text/plain": [
       "'A-CA'"
      ]
     },
     "execution_count": 13,
     "metadata": {},
     "output_type": "execute_result"
    }
   ],
   "source": [
    "text[3:7]"
   ]
  },
  {
   "attachments": {},
   "cell_type": "markdown",
   "id": "90817dee",
   "metadata": {},
   "source": [
    "### 3.2 Listas\n",
    "#### Son un tipo de dato compuesto de varios elemento, estos pueden ser carácteres o números, y otros tipos incluso. Cada elemento de la lista es accesible gracias a su índice."
   ]
  },
  {
   "cell_type": "code",
   "execution_count": 9,
   "id": "b5154040",
   "metadata": {},
   "outputs": [],
   "source": [
    "lista_de_compras = [\"Huevos\", \"Leche\", \"Queso\", \"Jabón\"]\n",
    "lista_con_precios = [\"Huevos\", 1.5, \"Leche\", 2, \"Queso\", 3.5, \"Jabón\", 5]"
   ]
  },
  {
   "cell_type": "code",
   "execution_count": 10,
   "id": "9e46399e",
   "metadata": {},
   "outputs": [
    {
     "name": "stdout",
     "output_type": "stream",
     "text": [
      "<class 'list'>\n"
     ]
    }
   ],
   "source": [
    "print(type(lista_con_precios))"
   ]
  },
  {
   "cell_type": "code",
   "execution_count": 11,
   "id": "67e625e5",
   "metadata": {},
   "outputs": [
    {
     "name": "stdout",
     "output_type": "stream",
     "text": [
      "Los Huevos cuestan 1.5\n",
      "La Leche cuesta 2\n",
      " \n"
     ]
    }
   ],
   "source": [
    "print(f\"\"\"Los {lista_con_precios[0]} cuestan {lista_con_precios[1]}\n",
    "La {lista_con_precios[2]} cuesta {lista_con_precios[3]}\n",
    " \"\"\")"
   ]
  },
  {
   "attachments": {},
   "cell_type": "markdown",
   "id": "7e0ec75f",
   "metadata": {},
   "source": [
    "### Mutabilidad\n",
    "#### La listas tienen la característica de permitirnos modificar el valor de algunos de sus elementos. Esto se llama mutabilidady es importante distinguir entre objetos mutables, como las listas, y otros inmutables"
   ]
  },
  {
   "cell_type": "code",
   "execution_count": 12,
   "id": "9172e216",
   "metadata": {},
   "outputs": [
    {
     "name": "stdout",
     "output_type": "stream",
     "text": [
      " ['Huevos', 0.9, 'Leche', 2, 'Queso', 3.5, 'Jabón', 5]\n",
      " Los Huevos cuestan 0.9\n"
     ]
    }
   ],
   "source": [
    "lista_con_precios[1] = 0.9\n",
    "print(f\"\"\" {lista_con_precios}\n",
    " Los {lista_con_precios[0]} cuestan {lista_con_precios[1]}\"\"\")"
   ]
  },
  {
   "attachments": {},
   "cell_type": "markdown",
   "id": "5934749f",
   "metadata": {},
   "source": [
    "### Métodos de las listas\n",
    "#### Podemos inicializar una lista de números a traves de una función llamada range (a,b,in):\n",
    "> a es el límite inferior de las secuencia de números\n",
    "\n",
    "> b es el límite superior (éste se excluye)\n",
    "\n",
    "> in es la unidad de incremento (argumento opcional)"
   ]
  },
  {
   "cell_type": "code",
   "execution_count": 13,
   "id": "670a8594",
   "metadata": {},
   "outputs": [
    {
     "data": {
      "text/plain": [
       "range(0, 20, 2)"
      ]
     },
     "execution_count": 13,
     "metadata": {},
     "output_type": "execute_result"
    }
   ],
   "source": [
    "range(0, 20, 2)"
   ]
  },
  {
   "cell_type": "code",
   "execution_count": 14,
   "id": "365fd963",
   "metadata": {},
   "outputs": [
    {
     "name": "stdout",
     "output_type": "stream",
     "text": [
      " range(0, 20, 2) \n",
      "[0, 2, 4, 6, 8, 10, 12, 14, 16, 18] \n"
     ]
    }
   ],
   "source": [
    "numeros = range(0, 20, 2)\n",
    "\n",
    "lista_numeros= list(numeros)\n",
    "\n",
    "print(f\"\"\" {numeros} \n",
    "{lista_numeros} \"\"\")"
   ]
  },
  {
   "attachments": {},
   "cell_type": "markdown",
   "id": "2bf95b86",
   "metadata": {},
   "source": [
    "### Para añadir elementos a la lista utilizamos el método append()"
   ]
  },
  {
   "cell_type": "code",
   "execution_count": 37,
   "metadata": {},
   "outputs": [
    {
     "name": "stdout",
     "output_type": "stream",
     "text": [
      "[0, 2, 4, 6, 8, 10, 12, 14, 16, 18, 20, 20, 20]\n"
     ]
    }
   ],
   "source": [
    "lista_numeros.append(20)\n",
    "print(lista_numeros)"
   ]
  },
  {
   "attachments": {},
   "cell_type": "markdown",
   "id": "bb5f8c39",
   "metadata": {},
   "source": [
    "### Podemos aplicar el operador de la adición + para concatenar dos listas"
   ]
  },
  {
   "cell_type": "code",
   "execution_count": 38,
   "id": "38e69fc6",
   "metadata": {},
   "outputs": [
    {
     "data": {
      "text/plain": [
       "[0,\n",
       " 2,\n",
       " 4,\n",
       " 6,\n",
       " 8,\n",
       " 10,\n",
       " 12,\n",
       " 14,\n",
       " 16,\n",
       " 18,\n",
       " 20,\n",
       " 20,\n",
       " 20,\n",
       " 23,\n",
       " 66,\n",
       " 12,\n",
       " 35,\n",
       " 'hola',\n",
       " 'overtime',\n",
       " 'cygne']"
      ]
     },
     "execution_count": 38,
     "metadata": {},
     "output_type": "execute_result"
    }
   ],
   "source": [
    "lista_numeros + [23, 66, 12, 35, 'hola', 'overtime', 'cygne']"
   ]
  },
  {
   "cell_type": "code",
   "execution_count": 39,
   "id": "bc73efd2",
   "metadata": {},
   "outputs": [
    {
     "data": {
      "text/plain": [
       "[0, 2, 4, 6, 8, 23, 66, 12, 35, 'hola', 'overtime']"
      ]
     },
     "execution_count": 39,
     "metadata": {},
     "output_type": "execute_result"
    }
   ],
   "source": [
    "nu_lista = lista_numeros[:5] + [23, 66, 12, 35, 'hola', 'overtime']\n",
    "nu_lista"
   ]
  },
  {
   "attachments": {},
   "cell_type": "markdown",
   "id": "90c72757",
   "metadata": {},
   "source": [
    "### La función len() nos permite conocer el número total de elementos"
   ]
  },
  {
   "cell_type": "code",
   "execution_count": 40,
   "id": "e7ea8e04",
   "metadata": {},
   "outputs": [
    {
     "data": {
      "text/plain": [
       "11"
      ]
     },
     "execution_count": 40,
     "metadata": {},
     "output_type": "execute_result"
    }
   ],
   "source": [
    "# mayorr = len([1,2,3,55,4])\n",
    "# menorr = len([2,3,4,5,6])\n",
    "# print(mayorr >=  menorr)\n",
    "len(nu_lista)"
   ]
  },
  {
   "attachments": {},
   "cell_type": "markdown",
   "id": "a3f6e6ac",
   "metadata": {},
   "source": [
    "### Podemos comprobar si algún valor existe dentro de una lista a través del término in"
   ]
  },
  {
   "cell_type": "code",
   "execution_count": 41,
   "id": "ebabb958",
   "metadata": {},
   "outputs": [
    {
     "data": {
      "text/plain": [
       "False"
      ]
     },
     "execution_count": 41,
     "metadata": {},
     "output_type": "execute_result"
    }
   ],
   "source": [
    "4 in [1,2,3]"
   ]
  },
  {
   "cell_type": "code",
   "execution_count": 42,
   "id": "805ea8c3",
   "metadata": {},
   "outputs": [
    {
     "data": {
      "text/plain": [
       "True"
      ]
     },
     "execution_count": 42,
     "metadata": {},
     "output_type": "execute_result"
    }
   ],
   "source": [
    "\"hola\" in nu_lista"
   ]
  },
  {
   "attachments": {},
   "cell_type": "markdown",
   "id": "b10b3c16",
   "metadata": {},
   "source": [
    "### Podemos actualizar varios elementos de una lista utilizando el slicing"
   ]
  },
  {
   "cell_type": "code",
   "execution_count": 43,
   "id": "ec800c75",
   "metadata": {},
   "outputs": [
    {
     "name": "stdout",
     "output_type": "stream",
     "text": [
      "[0, 2, 4, 6, 8, 23, 66, 12, 35, 'hola', 'overtime']\n"
     ]
    }
   ],
   "source": [
    "print(nu_lista)\n"
   ]
  },
  {
   "cell_type": "code",
   "execution_count": 44,
   "id": "7acebd1a",
   "metadata": {},
   "outputs": [
    {
     "data": {
      "text/plain": [
       "['Platos', 14, 'Libros', 'Teclados', 8, 23, 66, 12, 35, 'hola', 'overtime']"
      ]
     },
     "execution_count": 44,
     "metadata": {},
     "output_type": "execute_result"
    }
   ],
   "source": [
    "nu_lista[:4] = [\"Platos\", 14, \"Libros\", \"Teclados\"]\n",
    "nu_lista"
   ]
  },
  {
   "attachments": {},
   "cell_type": "markdown",
   "id": "788002c5",
   "metadata": {},
   "source": [
    "### También podemos trabajar con listas anidadas, asignando listas como valores en una lista.\n"
   ]
  },
  {
   "cell_type": "code",
   "execution_count": 19,
   "id": "01c8d6ed",
   "metadata": {},
   "outputs": [
    {
     "data": {
      "text/plain": [
       "[[1, 2, 3], [4, 5, 6], [7, 8, 9]]"
      ]
     },
     "execution_count": 19,
     "metadata": {},
     "output_type": "execute_result"
    }
   ],
   "source": [
    "fila_1 = [1,2,3]\n",
    "fila_2 = [4,5,6]\n",
    "fila_3 = [7,8,9]\n",
    "matriz = [fila_1,fila_2,fila_3]\n",
    "matriz"
   ]
  },
  {
   "cell_type": "code",
   "execution_count": 20,
   "id": "766887d4",
   "metadata": {},
   "outputs": [
    {
     "data": {
      "text/plain": [
       "[1, 2, 3]"
      ]
     },
     "execution_count": 20,
     "metadata": {},
     "output_type": "execute_result"
    }
   ],
   "source": [
    "matriz[0]"
   ]
  },
  {
   "cell_type": "code",
   "execution_count": 21,
   "id": "5ec61bdf",
   "metadata": {},
   "outputs": [
    {
     "data": {
      "text/plain": [
       "True"
      ]
     },
     "execution_count": 21,
     "metadata": {},
     "output_type": "execute_result"
    }
   ],
   "source": [
    "matriz[0] == fila_1"
   ]
  },
  {
   "cell_type": "code",
   "execution_count": 26,
   "id": "80f9757d",
   "metadata": {},
   "outputs": [
    {
     "data": {
      "text/plain": [
       "3"
      ]
     },
     "execution_count": 26,
     "metadata": {},
     "output_type": "execute_result"
    }
   ],
   "source": [
    "matriz[0][2] #elemento de la primera fila es [0] y acceder de esa fila un elemento se utulizaria [2]"
   ]
  },
  {
   "cell_type": "code",
   "execution_count": 37,
   "id": "9414b22b",
   "metadata": {},
   "outputs": [
    {
     "data": {
      "text/plain": [
       "[5, 6]"
      ]
     },
     "execution_count": 37,
     "metadata": {},
     "output_type": "execute_result"
    }
   ],
   "source": [
    "matriz[1][1:]"
   ]
  }
 ],
 "metadata": {
  "kernelspec": {
   "display_name": "Python 3",
   "language": "python",
   "name": "python3"
  },
  "language_info": {
   "codemirror_mode": {
    "name": "ipython",
    "version": 3
   },
   "file_extension": ".py",
   "mimetype": "text/x-python",
   "name": "python",
   "nbconvert_exporter": "python",
   "pygments_lexer": "ipython3",
   "version": "3.11.3"
  },
  "vscode": {
   "interpreter": {
    "hash": "be3eec2c4bcdf94ca5a82e01ec1bed9d7fcb23c9acba73805cc292dc7d4c2b88"
   }
  },
  "widgets": {
   "application/vnd.jupyter.widget-state+json": {
    "state": {},
    "version_major": 2,
    "version_minor": 0
   }
  }
 },
 "nbformat": 4,
 "nbformat_minor": 5
}
